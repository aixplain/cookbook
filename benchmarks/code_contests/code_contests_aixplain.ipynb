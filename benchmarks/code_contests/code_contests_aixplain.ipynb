{
 "cells": [
  {
   "cell_type": "code",
   "execution_count": null,
   "metadata": {
    "colab": {
     "base_uri": "https://localhost:8080/"
    },
    "collapsed": true,
    "executionInfo": {
     "elapsed": 18285,
     "status": "ok",
     "timestamp": 1746881353371,
     "user": {
      "displayName": "Zaina Abushaban",
      "userId": "17294801115192023964"
     },
     "user_tz": -180
    },
    "id": "C1TPStQJPZlm",
    "outputId": "7fbb7934-7513-4ef6-f259-55368af20cbb"
   },
   "outputs": [],
   "source": [
    "%pip install datasets, aixplain"
   ]
  },
  {
   "cell_type": "code",
   "execution_count": null,
   "metadata": {
    "executionInfo": {
     "elapsed": 7,
     "status": "ok",
     "timestamp": 1746881381686,
     "user": {
      "displayName": "Zaina Abushaban",
      "userId": "17294801115192023964"
     },
     "user_tz": -180
    },
    "id": "07tRe7zhNJ9W"
   },
   "outputs": [],
   "source": [
    "import os\n",
    "import sys\n",
    "import re\n",
    "import json\n",
    "import time\n",
    "import yaml\n",
    "import queue\n",
    "import logging\n",
    "import traceback\n",
    "import subprocess\n",
    "import multiprocessing\n",
    "from datasets import load_dataset\n",
    "from langchain.tools import StructuredTool\n",
    "from aixplain.factories import AgentFactory\n",
    "\n",
    "# Setup\n",
    "os.environ[\"TEAM_API_KEY\"] = \"TEAM_API_KEY\"  # Replace with your key\n",
    "multiprocessing.set_start_method(\"fork\", force=True)"
   ]
  },
  {
   "cell_type": "code",
   "execution_count": null,
   "metadata": {
    "executionInfo": {
     "elapsed": 21,
     "status": "ok",
     "timestamp": 1746881236843,
     "user": {
      "displayName": "Zaina Abushaban",
      "userId": "17294801115192023964"
     },
     "user_tz": -180
    },
    "id": "qU4VDxSDPBKz"
   },
   "outputs": [],
   "source": [
    "TOOL_DESCRIPTION = \"A Python shell. Use this to execute python program.\"\n",
    "INPUT_DESCRIPTION = \"\"\"Input MUST be a JSON map with the following keys: {0}. The input MUST be in the following format: {1}.\"\"\""
   ]
  },
  {
   "cell_type": "code",
   "execution_count": null,
   "metadata": {
    "executionInfo": {
     "elapsed": 19,
     "status": "ok",
     "timestamp": 1746883552270,
     "user": {
      "displayName": "Zaina Abushaban",
      "userId": "17294801115192023964"
     },
     "user_tz": -180
    },
    "id": "2LsWJYvsPGDW"
   },
   "outputs": [],
   "source": [
    "def exec_program(q, program, input_data, expected_output, timeout):\n",
    "    try:\n",
    "        start_time = time.time()\n",
    "        process = subprocess.Popen(\n",
    "            [sys.executable, \"-c\", program],\n",
    "            stdin=subprocess.PIPE,\n",
    "            stdout=subprocess.PIPE,\n",
    "            stderr=subprocess.PIPE,\n",
    "            text=True,\n",
    "        )\n",
    "        stdout, stderr = process.communicate(input=input_data, timeout=timeout)\n",
    "        if time.time() - start_time > timeout:\n",
    "            raise TimeoutError(\"Execution timed out.\")\n",
    "        if process.returncode != 0:\n",
    "            q.put(f\"failed: {stderr}\")\n",
    "            return\n",
    "\n",
    "        stdout_clean = stdout.strip()\n",
    "        expected_clean = expected_output.strip()\n",
    "\n",
    "        try:\n",
    "            if round(float(stdout_clean), 9) == round(float(expected_clean), 9):\n",
    "                q.put(\"passed\")\n",
    "            else:\n",
    "                q.put(\"failed\")\n",
    "        except ValueError:\n",
    "            q.put(\"passed\" if stdout_clean == expected_clean else \"failed\")\n",
    "\n",
    "    except subprocess.TimeoutExpired:\n",
    "        process.kill()\n",
    "        q.put(\"timed out\")\n",
    "    except Exception:\n",
    "        q.put(f\"failed: {traceback.format_exc()}\")"
   ]
  },
  {
   "cell_type": "code",
   "execution_count": null,
   "metadata": {
    "executionInfo": {
     "elapsed": 5,
     "status": "ok",
     "timestamp": 1746882298731,
     "user": {
      "displayName": "Zaina Abushaban",
      "userId": "17294801115192023964"
     },
     "user_tz": -180
    },
    "id": "LIZmSjjRPHty"
   },
   "outputs": [],
   "source": [
    "def get_code_from_output(output: str) -> str:\n",
    "    match = re.search(r\"```python(.*?)```\", output, re.DOTALL)\n",
    "    return match.group(1).strip() if match else output.strip()"
   ]
  },
  {
   "cell_type": "code",
   "execution_count": null,
   "metadata": {
    "executionInfo": {
     "elapsed": 7,
     "status": "ok",
     "timestamp": 1746882299550,
     "user": {
      "displayName": "Zaina Abushaban",
      "userId": "17294801115192023964"
     },
     "user_tz": -180
    },
    "id": "gmb6WzwMPKCy"
   },
   "outputs": [],
   "source": [
    "def check_correctness(program: str, input_data: str, expected_output: str, timeout: float, **kwargs) -> str:\n",
    "    code = get_code_from_output(program)\n",
    "    q = multiprocessing.Queue()\n",
    "    p = multiprocessing.Process(target=exec_program, args=(q, code, input_data, expected_output, timeout))\n",
    "    p.start()\n",
    "    p.join(timeout + 1)\n",
    "    if p.is_alive():\n",
    "        p.terminate()\n",
    "        p.join()\n",
    "        return \"timed out\"\n",
    "    try:\n",
    "        return q.get_nowait()\n",
    "    except queue.Empty:\n",
    "        return \"no result returned\""
   ]
  },
  {
   "cell_type": "code",
   "execution_count": null,
   "metadata": {
    "executionInfo": {
     "elapsed": 3,
     "status": "ok",
     "timestamp": 1746882301255,
     "user": {
      "displayName": "Zaina Abushaban",
      "userId": "17294801115192023964"
     },
     "user_tz": -180
    },
    "id": "U2sczR-gPLcn"
   },
   "outputs": [],
   "source": [
    "def get_python_exec_tool():\n",
    "    params = {\n",
    "        \"program\": \"str: the python code to be executed\",\n",
    "        \"input_data\": \"str: input data\",\n",
    "        \"expected_output\": \"str: expected output\",\n",
    "        \"timeout\": \"float: time in seconds before the code execution times out\",\n",
    "    }\n",
    "    desc = INPUT_DESCRIPTION.format(\n",
    "        \"\\n\".join([f\"{k}: {v}\" for k, v in params.items()]),\n",
    "        {k: \"VALUE\" for k in params}\n",
    "    )\n",
    "    return StructuredTool.from_function(\n",
    "        name=\"python_code_execution\",\n",
    "        description=TOOL_DESCRIPTION + \" \" + desc,\n",
    "        func=check_correctness\n",
    "    )"
   ]
  },
  {
   "cell_type": "code",
   "execution_count": null,
   "metadata": {
    "executionInfo": {
     "elapsed": 1,
     "status": "ok",
     "timestamp": 1746882303243,
     "user": {
      "displayName": "Zaina Abushaban",
      "userId": "17294801115192023964"
     },
     "user_tz": -180
    },
    "id": "A4jgmNqKPTwY"
   },
   "outputs": [],
   "source": [
    "def load_config(config_path: str) -> dict:\n",
    "    try:\n",
    "        with open(config_path, \"r\") as file:\n",
    "            config = yaml.safe_load(file)\n",
    "        if not config:\n",
    "            raise ValueError(\"Configuration file is empty.\")\n",
    "        return config\n",
    "    except FileNotFoundError:\n",
    "        raise FileNotFoundError(f\"Configuration not found: {config_path}\")\n",
    "    except yaml.YAMLError as e:\n",
    "        raise ValueError(f\"YAML parsing error: {e}\")"
   ]
  },
  {
   "cell_type": "code",
   "execution_count": null,
   "metadata": {
    "executionInfo": {
     "elapsed": 5,
     "status": "ok",
     "timestamp": 1746882994178,
     "user": {
      "displayName": "Zaina Abushaban",
      "userId": "17294801115192023964"
     },
     "user_tz": -180
    },
    "id": "TdpahgD6PvLp"
   },
   "outputs": [],
   "source": [
    "def main(output_folder=\"code_contests_results\", max_samples=6):\n",
    "    agent = AgentFactory.create(\n",
    "        name=\"Code Contests Team Agent\",\n",
    "        description=\"Single agent configured for the Code Contests experiment.\",\n",
    "        llm_id=\"669a63646eb56306647e1091\"\n",
    "    )\n",
    "\n",
    "    os.makedirs(output_folder, exist_ok=True)\n",
    "    data = load_dataset(\"deepmind/code_contests\", split=\"test\", streaming=True)\n",
    "\n",
    "    correct_total = 0\n",
    "    processed_count = 0\n",
    "    log_path = os.path.join(output_folder, \"code_contests_results.jsonl\")\n",
    "\n",
    "    for idx, sample in enumerate(data):\n",
    "        if processed_count >= max_samples:\n",
    "            break\n",
    "\n",
    "        try:\n",
    "            example = sample[\"description\"]\n",
    "            time_limit = sample[\"time_limit\"][\"seconds\"]\n",
    "            query = f\"\"\"Generate Python code to solve the following problem. Use `input()` to read input and `print()` to output. Timeout is {time_limit} seconds. \n",
    "            Problem:\n",
    "            {example}\"\"\"\n",
    "\n",
    "            start_time = time.time()\n",
    "            response = agent.run(query=query)\n",
    "            elapsed = round(time.time() - start_time, 2)\n",
    "\n",
    "            try:\n",
    "                cost = response.usedCredits\n",
    "            except:\n",
    "                cost = \"N/A\"\n",
    "\n",
    "            code = get_code_from_output(response.data.output)\n",
    "            passed = 0\n",
    "            test_results = []\n",
    "\n",
    "            if code:\n",
    "                for i, (inp, outp) in enumerate(zip(sample[\"public_tests\"][\"input\"], sample[\"public_tests\"][\"output\"])):\n",
    "                    try:\n",
    "                        result = check_correctness(code, inp, outp, timeout=time_limit)\n",
    "                        test_results.append({\"test_id\": i + 1, \"result\": result})\n",
    "                        if result == \"passed\":\n",
    "                            passed += 1\n",
    "                    except Exception as e:\n",
    "                        test_results.append({\"test_id\": i + 1, \"result\": f\"error: {e}\"})\n",
    "            else:\n",
    "                test_results.append({\"test_id\": 1, \"result\": \"no code generated\"})\n",
    "\n",
    "            success_rate = passed / len(sample[\"public_tests\"][\"input\"])\n",
    "            is_correct = success_rate == 1.0\n",
    "            correct_total += success_rate\n",
    "            current_accuracy = correct_total / (processed_count + 1)\n",
    "\n",
    "            result = {\n",
    "                \"sample_index\": idx + 1,\n",
    "                \"name\": sample[\"name\"],\n",
    "                \"description\": example,\n",
    "                \"time_limit\": time_limit,\n",
    "                \"public_tests_input\": sample[\"public_tests\"][\"input\"],\n",
    "                \"public_tests_output\": sample[\"public_tests\"][\"output\"],\n",
    "                \"generated_code\": code if code else \"No code generated\",\n",
    "                \"agent_response\": response.data.output,\n",
    "                \"is_correct\": is_correct,\n",
    "                \"success_rate\": success_rate,\n",
    "                \"current_accuracy\": current_accuracy,\n",
    "                \"inference_time_seconds\": elapsed,\n",
    "                \"cost\": cost,\n",
    "                \"test_results\": test_results,\n",
    "            }\n",
    "\n",
    "            with open(os.path.join(output_folder, f\"{processed_count + 1}_results.json\"), \"w\") as f:\n",
    "                json.dump(result, f, indent=4)\n",
    "\n",
    "            with open(log_path, \"a\") as log_f:\n",
    "                log_f.write(json.dumps(result) + \"\\n\")\n",
    "\n",
    "            print(f\"[✓] Sample {idx + 1} processed — accuracy: {current_accuracy:.2%}\")\n",
    "            processed_count += 1\n",
    "\n",
    "        except Exception as e:\n",
    "            logging.error(f\"Error on sample {processed_count + 1}: {e}\")"
   ]
  },
  {
   "cell_type": "code",
   "execution_count": null,
   "metadata": {
    "colab": {
     "base_uri": "https://localhost:8080/",
     "height": 1000,
     "referenced_widgets": [
      "9d2afeee16134e59ac50f82a1a6d1953",
      "5486f8a132384e4fbdf8a9554cc999ef",
      "f6964dcbb10f4c25a3047c2b0213d4f5",
      "3f68697272cb4980a15ef4c2afc8d019",
      "9ffeb225f1bb4797bb749bf0f3a06710",
      "5c4033b5818b40568e979bd50e1cf62e",
      "9efa09f3b0f5425d8e5a9f763cfdf1e9",
      "c5382bfc638245269ae0e8f5e4d148f8",
      "4ef3f68428e5412fa9b99a7b03303106",
      "da55f1ab8b9e409aaf121d2cb9e4ad5a",
      "353890ba8d674507b95dcc78e390acc1"
     ]
    },
    "collapsed": true,
    "executionInfo": {
     "elapsed": 65604,
     "status": "ok",
     "timestamp": 1746883621219,
     "user": {
      "displayName": "Zaina Abushaban",
      "userId": "17294801115192023964"
     },
     "user_tz": -180
    },
    "id": "wOQ2fPuQQPnM",
    "outputId": "15db27e5-232e-444c-940c-4d1d171444ee"
   },
   "outputs": [],
   "source": [
    "if __name__ == \"__main__\":\n",
    "    main()"
   ]
  }
 ],
 "metadata": {
  "colab": {
   "authorship_tag": "ABX9TyNIXKRKgMa5nxVBfWtJKebD",
   "provenance": []
  },
  "kernelspec": {
   "display_name": "Python 3",
   "name": "python3"
  },
  "language_info": {
   "name": "python"
  },
  "widgets": {
   "application/vnd.jupyter.widget-state+json": {
    "353890ba8d674507b95dcc78e390acc1": {
     "model_module": "@jupyter-widgets/controls",
     "model_module_version": "1.5.0",
     "model_name": "DescriptionStyleModel",
     "state": {
      "_model_module": "@jupyter-widgets/controls",
      "_model_module_version": "1.5.0",
      "_model_name": "DescriptionStyleModel",
      "_view_count": null,
      "_view_module": "@jupyter-widgets/base",
      "_view_module_version": "1.2.0",
      "_view_name": "StyleView",
      "description_width": ""
     }
    },
    "3f68697272cb4980a15ef4c2afc8d019": {
     "model_module": "@jupyter-widgets/controls",
     "model_module_version": "1.5.0",
     "model_name": "HTMLModel",
     "state": {
      "_dom_classes": [],
      "_model_module": "@jupyter-widgets/controls",
      "_model_module_version": "1.5.0",
      "_model_name": "HTMLModel",
      "_view_count": null,
      "_view_module": "@jupyter-widgets/controls",
      "_view_module_version": "1.5.0",
      "_view_name": "HTMLView",
      "description": "",
      "description_tooltip": null,
      "layout": "IPY_MODEL_da55f1ab8b9e409aaf121d2cb9e4ad5a",
      "placeholder": "​",
      "style": "IPY_MODEL_353890ba8d674507b95dcc78e390acc1",
      "value": " 39/39 [00:00&lt;00:00, 1754.24it/s]"
     }
    },
    "4ef3f68428e5412fa9b99a7b03303106": {
     "model_module": "@jupyter-widgets/controls",
     "model_module_version": "1.5.0",
     "model_name": "ProgressStyleModel",
     "state": {
      "_model_module": "@jupyter-widgets/controls",
      "_model_module_version": "1.5.0",
      "_model_name": "ProgressStyleModel",
      "_view_count": null,
      "_view_module": "@jupyter-widgets/base",
      "_view_module_version": "1.2.0",
      "_view_name": "StyleView",
      "bar_color": null,
      "description_width": ""
     }
    },
    "5486f8a132384e4fbdf8a9554cc999ef": {
     "model_module": "@jupyter-widgets/controls",
     "model_module_version": "1.5.0",
     "model_name": "HTMLModel",
     "state": {
      "_dom_classes": [],
      "_model_module": "@jupyter-widgets/controls",
      "_model_module_version": "1.5.0",
      "_model_name": "HTMLModel",
      "_view_count": null,
      "_view_module": "@jupyter-widgets/controls",
      "_view_module_version": "1.5.0",
      "_view_name": "HTMLView",
      "description": "",
      "description_tooltip": null,
      "layout": "IPY_MODEL_5c4033b5818b40568e979bd50e1cf62e",
      "placeholder": "​",
      "style": "IPY_MODEL_9efa09f3b0f5425d8e5a9f763cfdf1e9",
      "value": "Resolving data files: 100%"
     }
    },
    "5c4033b5818b40568e979bd50e1cf62e": {
     "model_module": "@jupyter-widgets/base",
     "model_module_version": "1.2.0",
     "model_name": "LayoutModel",
     "state": {
      "_model_module": "@jupyter-widgets/base",
      "_model_module_version": "1.2.0",
      "_model_name": "LayoutModel",
      "_view_count": null,
      "_view_module": "@jupyter-widgets/base",
      "_view_module_version": "1.2.0",
      "_view_name": "LayoutView",
      "align_content": null,
      "align_items": null,
      "align_self": null,
      "border": null,
      "bottom": null,
      "display": null,
      "flex": null,
      "flex_flow": null,
      "grid_area": null,
      "grid_auto_columns": null,
      "grid_auto_flow": null,
      "grid_auto_rows": null,
      "grid_column": null,
      "grid_gap": null,
      "grid_row": null,
      "grid_template_areas": null,
      "grid_template_columns": null,
      "grid_template_rows": null,
      "height": null,
      "justify_content": null,
      "justify_items": null,
      "left": null,
      "margin": null,
      "max_height": null,
      "max_width": null,
      "min_height": null,
      "min_width": null,
      "object_fit": null,
      "object_position": null,
      "order": null,
      "overflow": null,
      "overflow_x": null,
      "overflow_y": null,
      "padding": null,
      "right": null,
      "top": null,
      "visibility": null,
      "width": null
     }
    },
    "9d2afeee16134e59ac50f82a1a6d1953": {
     "model_module": "@jupyter-widgets/controls",
     "model_module_version": "1.5.0",
     "model_name": "HBoxModel",
     "state": {
      "_dom_classes": [],
      "_model_module": "@jupyter-widgets/controls",
      "_model_module_version": "1.5.0",
      "_model_name": "HBoxModel",
      "_view_count": null,
      "_view_module": "@jupyter-widgets/controls",
      "_view_module_version": "1.5.0",
      "_view_name": "HBoxView",
      "box_style": "",
      "children": [
       "IPY_MODEL_5486f8a132384e4fbdf8a9554cc999ef",
       "IPY_MODEL_f6964dcbb10f4c25a3047c2b0213d4f5",
       "IPY_MODEL_3f68697272cb4980a15ef4c2afc8d019"
      ],
      "layout": "IPY_MODEL_9ffeb225f1bb4797bb749bf0f3a06710"
     }
    },
    "9efa09f3b0f5425d8e5a9f763cfdf1e9": {
     "model_module": "@jupyter-widgets/controls",
     "model_module_version": "1.5.0",
     "model_name": "DescriptionStyleModel",
     "state": {
      "_model_module": "@jupyter-widgets/controls",
      "_model_module_version": "1.5.0",
      "_model_name": "DescriptionStyleModel",
      "_view_count": null,
      "_view_module": "@jupyter-widgets/base",
      "_view_module_version": "1.2.0",
      "_view_name": "StyleView",
      "description_width": ""
     }
    },
    "9ffeb225f1bb4797bb749bf0f3a06710": {
     "model_module": "@jupyter-widgets/base",
     "model_module_version": "1.2.0",
     "model_name": "LayoutModel",
     "state": {
      "_model_module": "@jupyter-widgets/base",
      "_model_module_version": "1.2.0",
      "_model_name": "LayoutModel",
      "_view_count": null,
      "_view_module": "@jupyter-widgets/base",
      "_view_module_version": "1.2.0",
      "_view_name": "LayoutView",
      "align_content": null,
      "align_items": null,
      "align_self": null,
      "border": null,
      "bottom": null,
      "display": null,
      "flex": null,
      "flex_flow": null,
      "grid_area": null,
      "grid_auto_columns": null,
      "grid_auto_flow": null,
      "grid_auto_rows": null,
      "grid_column": null,
      "grid_gap": null,
      "grid_row": null,
      "grid_template_areas": null,
      "grid_template_columns": null,
      "grid_template_rows": null,
      "height": null,
      "justify_content": null,
      "justify_items": null,
      "left": null,
      "margin": null,
      "max_height": null,
      "max_width": null,
      "min_height": null,
      "min_width": null,
      "object_fit": null,
      "object_position": null,
      "order": null,
      "overflow": null,
      "overflow_x": null,
      "overflow_y": null,
      "padding": null,
      "right": null,
      "top": null,
      "visibility": null,
      "width": null
     }
    },
    "c5382bfc638245269ae0e8f5e4d148f8": {
     "model_module": "@jupyter-widgets/base",
     "model_module_version": "1.2.0",
     "model_name": "LayoutModel",
     "state": {
      "_model_module": "@jupyter-widgets/base",
      "_model_module_version": "1.2.0",
      "_model_name": "LayoutModel",
      "_view_count": null,
      "_view_module": "@jupyter-widgets/base",
      "_view_module_version": "1.2.0",
      "_view_name": "LayoutView",
      "align_content": null,
      "align_items": null,
      "align_self": null,
      "border": null,
      "bottom": null,
      "display": null,
      "flex": null,
      "flex_flow": null,
      "grid_area": null,
      "grid_auto_columns": null,
      "grid_auto_flow": null,
      "grid_auto_rows": null,
      "grid_column": null,
      "grid_gap": null,
      "grid_row": null,
      "grid_template_areas": null,
      "grid_template_columns": null,
      "grid_template_rows": null,
      "height": null,
      "justify_content": null,
      "justify_items": null,
      "left": null,
      "margin": null,
      "max_height": null,
      "max_width": null,
      "min_height": null,
      "min_width": null,
      "object_fit": null,
      "object_position": null,
      "order": null,
      "overflow": null,
      "overflow_x": null,
      "overflow_y": null,
      "padding": null,
      "right": null,
      "top": null,
      "visibility": null,
      "width": null
     }
    },
    "da55f1ab8b9e409aaf121d2cb9e4ad5a": {
     "model_module": "@jupyter-widgets/base",
     "model_module_version": "1.2.0",
     "model_name": "LayoutModel",
     "state": {
      "_model_module": "@jupyter-widgets/base",
      "_model_module_version": "1.2.0",
      "_model_name": "LayoutModel",
      "_view_count": null,
      "_view_module": "@jupyter-widgets/base",
      "_view_module_version": "1.2.0",
      "_view_name": "LayoutView",
      "align_content": null,
      "align_items": null,
      "align_self": null,
      "border": null,
      "bottom": null,
      "display": null,
      "flex": null,
      "flex_flow": null,
      "grid_area": null,
      "grid_auto_columns": null,
      "grid_auto_flow": null,
      "grid_auto_rows": null,
      "grid_column": null,
      "grid_gap": null,
      "grid_row": null,
      "grid_template_areas": null,
      "grid_template_columns": null,
      "grid_template_rows": null,
      "height": null,
      "justify_content": null,
      "justify_items": null,
      "left": null,
      "margin": null,
      "max_height": null,
      "max_width": null,
      "min_height": null,
      "min_width": null,
      "object_fit": null,
      "object_position": null,
      "order": null,
      "overflow": null,
      "overflow_x": null,
      "overflow_y": null,
      "padding": null,
      "right": null,
      "top": null,
      "visibility": null,
      "width": null
     }
    },
    "f6964dcbb10f4c25a3047c2b0213d4f5": {
     "model_module": "@jupyter-widgets/controls",
     "model_module_version": "1.5.0",
     "model_name": "FloatProgressModel",
     "state": {
      "_dom_classes": [],
      "_model_module": "@jupyter-widgets/controls",
      "_model_module_version": "1.5.0",
      "_model_name": "FloatProgressModel",
      "_view_count": null,
      "_view_module": "@jupyter-widgets/controls",
      "_view_module_version": "1.5.0",
      "_view_name": "ProgressView",
      "bar_style": "success",
      "description": "",
      "description_tooltip": null,
      "layout": "IPY_MODEL_c5382bfc638245269ae0e8f5e4d148f8",
      "max": 39,
      "min": 0,
      "orientation": "horizontal",
      "style": "IPY_MODEL_4ef3f68428e5412fa9b99a7b03303106",
      "value": 39
     }
    }
   }
  }
 },
 "nbformat": 4,
 "nbformat_minor": 0
}
