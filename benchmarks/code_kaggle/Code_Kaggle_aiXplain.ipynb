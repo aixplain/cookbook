{
 "cells": [
  {
   "cell_type": "code",
   "execution_count": null,
   "metadata": {},
   "outputs": [],
   "source": [
    "%pip install datasets, aixplain"
   ]
  },
  {
   "cell_type": "code",
   "execution_count": null,
   "metadata": {
    "id": "ewPSzDaAUBmC"
   },
   "outputs": [],
   "source": [
    "import os\n",
    "os.environ[\"TEAM_API_KEY\"] = \"\""
   ]
  },
  {
   "cell_type": "code",
   "execution_count": null,
   "metadata": {
    "id": "ZgNu_yhjUGVk"
   },
   "outputs": [],
   "source": [
    "from aixplain.factories import AgentFactory\n",
    "import json\n",
    "\n",
    "code=AgentFactory.create_python_interpreter_tool()\n",
    "agent = AgentFactory.create(\n",
    "        name=\"Python Code Executor\",\n",
    "        description=\"Python code executor\",\n",
    "        instructions=\"This is a Python Code Generator and Executor. Use it to generate and run Python commands. Input should describe a problem that can be solved programmatically. The output will be a detailed explanation of what the executed code achieved. If you receive code as input, you should either run it or explain why it cannot be executed. Additionally, ensure the tool prints the outcome! PRINT THE OUTPUT do not just show it, use the python print() function.\",\n",
    "        llm_id=\"654a42a36eb5634a236f5eb1\",\n",
    "        tools=[code]\n",
    "    )\n"
   ]
  },
  {
   "cell_type": "code",
   "execution_count": null,
   "metadata": {
    "id": "NYucKe8TUHny"
   },
   "outputs": [],
   "source": [
    "with open(\"data/code_kaggle_20240712.jsonl\") as f:\n",
    "    data = [json.loads(line) for line in f.readlines()]"
   ]
  },
  {
   "cell_type": "code",
   "execution_count": null,
   "metadata": {
    "id": "c6OqS_N-UI_B"
   },
   "outputs": [],
   "source": [
    "import re\n",
    "def evaluate_response(predicted_json_str, ground_truth_answers):\n",
    "    try:\n",
    "        # Strip markdown-style triple backticks if present\n",
    "        match = re.search(r\"```(?:json)?\\s*(\\[\\s*{.*?}\\s*])\\s*```\", predicted_json_str, re.DOTALL)\n",
    "        cleaned = match.group(1) if match else predicted_json_str.strip()\n",
    "\n",
    "        parsed = json.loads(cleaned)\n",
    "\n",
    "        # Handle the special case if embedded in an action dict\n",
    "        if isinstance(parsed, dict) and isinstance(parsed.get(\"action_input\"), str):\n",
    "            predictions = json.loads(parsed[\"action_input\"])\n",
    "        elif isinstance(parsed, list):\n",
    "            predictions = parsed\n",
    "        else:\n",
    "            predictions = []\n",
    "    except Exception as e:\n",
    "        print(\"❌ Failed to parse prediction:\", e)\n",
    "        return 0.0, 0\n",
    "\n",
    "    correct = 0\n",
    "    for pred, gt in zip(predictions, ground_truth_answers):\n",
    "        if pred.get(\"answer\", \"\").strip().upper() == gt.strip().upper():\n",
    "            correct += 1\n",
    "\n",
    "    total = len(ground_truth_answers)\n",
    "    return (correct / total if total > 0 else 0.0), correct\n"
   ]
  },
  {
   "cell_type": "code",
   "execution_count": null,
   "metadata": {
    "id": "RhQJaP-iUKct"
   },
   "outputs": [],
   "source": [
    "for idx, _ in enumerate(data):\n",
    "    if idx==1:\n",
    "        break\n",
    "    if data[idx][\"image_expected\"] is False:\n",
    "        import re\n",
    "\n",
    "        content = data[idx][\"messages\"][0][\"content\"]\n",
    "\n",
    "        option = content.split(\"\\nData Files:\")[-1].split(\"\\n\\n\\n\")[0].strip()\n",
    "\n",
    "        option = re.sub(r'(\\.\\./)?input/[\\w\\-/\\.]+', '{{file1}}', option)\n",
    "\n",
    "        option = \"Data Files:\\n\" + option\n",
    "\n",
    "        suffix = f\"\"\"Answer the questions based on the data file, notebook and user request using the available tools.\n",
    "            Question:\n",
    "            {data[idx]['questions']}\n",
    "\n",
    "            Answer Format:\n",
    "            ```json\n",
    "            [\n",
    "                {{\n",
    "                    \"answer\": \"LETTER OF THE ANSWER\",\n",
    "                    \"explanation\": \"EXPLANATION\"\n",
    "                }}\n",
    "            ]\n",
    "            ```\n",
    "            \"\"\"\n",
    "        inp = option + \"\\n\\n\" + suffix\n",
    "        match = re.search(r'(\\.\\./)?input/([\\w\\-/\\.]+)', content)\n",
    "        if match:\n",
    "            relative_path = match.group(2)\n",
    "            print(relative_path)\n",
    "            file_url = f\"https://aixplain-platform-assets.s3.us-east-1.amazonaws.com/samples/code_kaggle_source/input/{relative_path}\"\n",
    "            content_dict = {\"file1\": file_url}\n",
    "        else:\n",
    "            content_dict = {}\n",
    "            print(f\"⚠️ No file found in sample {idx}, skipping file upload.\")\n",
    "        response = agent.run(query=inp, max_iterations=10, content=content_dict)\n",
    "        acc, correct = evaluate_response(response.data.output, data[idx][\"gt_answers\"])\n"
   ]
  }
 ],
 "metadata": {
  "colab": {
   "authorship_tag": "ABX9TyOt/WgnFQEqU86q/lbYvP+P",
   "provenance": []
  },
  "kernelspec": {
   "display_name": "lang",
   "language": "python",
   "name": "python3"
  },
  "language_info": {
   "name": "python",
   "version": "3.13.2"
  }
 },
 "nbformat": 4,
 "nbformat_minor": 0
}
