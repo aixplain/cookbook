{
 "cells": [
  {
   "cell_type": "code",
   "execution_count": null,
   "id": "a2458d59-6662-4182-880e-dd6d272728f5",
   "metadata": {
    "tags": []
   },
   "outputs": [],
   "source": [
    "# !pip -q install pydantic\n",
    "# !pip -q install --upgrade aixplain\n",
    "# !pip -q install datasets scikit-learn"
   ]
  },
  {
   "cell_type": "code",
   "execution_count": null,
   "id": "dab60351-6f1c-40c6-8820-578eb45af96a",
   "metadata": {
    "tags": []
   },
   "outputs": [],
   "source": [
    "# install the libraries: pip install pandas scipy scikit-learn datasets seaborn matplotlib\n",
    "\n",
    "import os\n",
    "import pandas as pd\n",
    "from datasets import load_dataset\n",
    "\n",
    "os.environ[\"TEAM_API_KEY\"] = \"TEAM_API_KEY\"\n",
    "from aixplain.factories import AgentFactory, TeamAgentFactory\n",
    "from utils import *"
   ]
  },
  {
   "cell_type": "code",
   "execution_count": 2,
   "id": "cf671ada-45da-4cf5-851d-946b2d5d5029",
   "metadata": {
    "tags": []
   },
   "outputs": [],
   "source": [
    "dataset = load_dataset(\"fever/feverous\", trust_remote_code=True)\n",
    "df_val = pd.DataFrame(dataset[\"validation\"])"
   ]
  },
  {
   "cell_type": "code",
   "execution_count": 6,
   "id": "5d9b9e1d-500e-4cee-a4b7-897d1d302297",
   "metadata": {
    "tags": []
   },
   "outputs": [],
   "source": [
    "ROLE = \"\"\"You are an AI fact verification agent trained to research, analyze claims, and classify them into specified categories.\n",
    "\n",
    "You have access to search tools to explore the web and verify claims. If ethical concerns arise with the input, classify the task as **NOT_SOLVABLE** and provide a clear explanation of the issue.\n",
    "\n",
    "Always adhere strictly to the provided output format.\n",
    "\n",
    "Output format:\n",
    "```json\n",
    "{{\n",
    "  \"classification\": \"Answer\",\n",
    "  \"evidence\": \"A concise explanation of how the evidence supports the classification.\"\n",
    "}}\n",
    "```\"\"\""
   ]
  },
  {
   "cell_type": "code",
   "execution_count": 7,
   "id": "9c8b7b85-6816-43d4-85e0-7bd170e2cf4a",
   "metadata": {
    "tags": []
   },
   "outputs": [],
   "source": [
    "PROMPT=\"\"\"Analyze and classify the claim below using the outlined architecture:\n",
    "\n",
    "    0: The evidence explicitly supports the claim as true.\n",
    "    1: The evidence explicitly refutes or contradicts the claim.\n",
    "    2: The evidence is insufficient, ambiguous, or lacks enough information to verify the claim.\n",
    "\n",
    "Claim: {query}\n",
    "\n",
    "Provide your response strictly in the required ***JSON format***:\"\"\""
   ]
  },
  {
   "cell_type": "code",
   "execution_count": null,
   "id": "85f22ede-93fe-4760-9b72-650b05190176",
   "metadata": {
    "tags": []
   },
   "outputs": [],
   "source": [
    "agent = AgentFactory.create(\n",
    "                    name=\"Search and Fact Verification Assistant\",\n",
    "                    description=ROLE,\n",
    "                    instructions=ROLE,\n",
    "                    llm_id=\"669a63646eb56306647e1091\",\n",
    "                    tools=[AgentFactory.create_model_tool(model=\"6736411cf127849667606689\"), # Tavily search\n",
    "                           ],\n",
    "                )"
   ]
  },
  {
   "cell_type": "code",
   "execution_count": null,
   "id": "640f2edc-cc7b-4a12-ada3-16ecb56ad1c0",
   "metadata": {
    "collapsed": true,
    "jupyter": {
     "outputs_hidden": true
    },
    "tags": []
   },
   "outputs": [],
   "source": [
    "n=20\n",
    "answer_single = []\n",
    "for idx, row in enumerate(df_val[\"claim\"][:n]):\n",
    "    query = row.replace(\"–\", \"-\")\n",
    "    inp = PROMPT.format(query=query) \n",
    "    response = agent.run(str(inp))\n",
    "    answer_single.append(response.data.output)\n",
    "    \n",
    "    response_dir = \"single_results\"\n",
    "    os.makedirs(response_dir, exist_ok=True)\n",
    "    response_path = os.path.join(response_dir, f\"response_{idx}.json\")\n",
    "\n",
    "    safe_dump_response_step(response, response_path)\n",
    "        "
   ]
  },
  {
   "cell_type": "code",
   "execution_count": 7,
   "id": "6f724838-3cde-44ef-9302-78acfbdf278d",
   "metadata": {
    "collapsed": true,
    "jupyter": {
     "outputs_hidden": true
    },
    "tags": []
   },
   "outputs": [
    {
     "name": "stdout",
     "output_type": "stream",
     "text": [
      "20\n"
     ]
    },
    {
     "data": {
      "text/plain": [
       "[\"{'query': {'classification': '2', 'evidence': 'The evidence discusses the Lindenbaum-Tarski algebra and its relation to various logical systems, but it does not clearly confirm or deny the specific claim about the five logical systems or the inclusion of Physics and Nodal algebra.'}}\",\n",
       " \"{'query': {'classification': '0', 'evidence': 'The evidence confirms that Aramais Yepiskoposyan played for FC Ararat Yerevan from 1986 to 1991, as stated in multiple sources.'}}\",\n",
       " '{\\'query\\': {\\'classification\\': \\'1\\', \\'evidence\\': \"The evidence confirms that \\'The Discoverie of Witchcraft\\' was indeed published by Reginald Scot in 1584, contradicting the claim that it was never published. Additionally, the evidence does not mention the dedications, which leaves that part of the claim unverified.\"}}',\n",
       " \"{'query': {'classification': '0', 'evidence': 'The evidence confirms that Family Guy features five main voice actors and includes recurring cast members such as H. Jon Benjamin, Johnny Brennan, and Ralph Garman, along with their respective episode appearances.'}}\",\n",
       " '{\\'query\\': {\\'classification\\': \\'0\\', \\'evidence\\': \"John Laurie was indeed part of the cast in \\'Bees on the Boat-Deck\\' in 1939, where he played the role of Gaster, and he also appeared in \\'Jackanory\\' as a storyteller in 1971.\"}}',\n",
       " '{\\'query\\': {\\'classification\\': 1, \\'evidence\\': \"The claim states that there are 10 specials in the episode list of \\'Once Upon a Time\\', but the evidence indicates that the series has a total of 156 episodes over 7 seasons, with no mention of 10 specials. Additionally, Alan Dale is identified as an actor in the series, but not as a narrator.\"}}',\n",
       " \"{'query': {'classification': '0', 'evidence': 'Per Axel Rydberg was indeed born on July 6, 1860, in Odh, Västergötland, Sweden, and he graduated from the University of Nebraska-Lincoln with a B.S. in 1891 and an M.A. in 1895, confirming his educational background in botany.'}}\",\n",
       " \"{'query': {'classification': '0', 'evidence': 'The evidence confirms that Kolhan village had a population of 693 in 2011, with 390 individuals identified as workers, thus explicitly supporting the claim as true.'}}\",\n",
       " '{\"classification\": 0, \"evidence\": \"Xiao Sha was part of the Chinese team at the 2007 World Championships, where China won silver, and she also competed in the Cottbus and Ostrava World Cups in 2008, winning medals.\"}',\n",
       " \"{'query': {'classification': 2, 'evidence': 'The information retrieved indicates that the Glenn-Thompson Plantation underwent changes and was developed into a working plantation, but it does not provide specific details about the extensive renovations mentioned in the claim, such as the addition of four rooms and a patio in 1840 or the sealing of original wood fireplace mantels with marble hearths.'}}\",\n",
       " \"{'query': {'classification': '0', 'evidence': 'The evidence explicitly supports the claim that Ken Banks developed FrontlineSMS in 2005 to help conservationists communicate with communities in Kruger National Park.'}}\",\n",
       " \"{'query': {'classification': '0', 'evidence': 'The evidence confirms that Walter Tyrrell claimed three enemy fighters shot down over Lamotte on April 7, 1918, and gained two more victories on April 11 and 12, directly supporting the claim.'}}\",\n",
       " \"{'query': {'classification': 2, 'evidence': 'The evidence does not provide sufficient information regarding the membership duration of Harman Tarrant compared to Samuel Charles and John Stewart, making it ambiguous.'}}\",\n",
       " \"{'query': {'classification': 1, 'evidence': 'Lindsi Cutshall played as a defender, not as a forward, which contradicts the claim that she played the FW position.'}}\",\n",
       " \"{'query': {'classification': '1', 'evidence': 'The evidence indicates that Quentin Burdick was the incumbent candidate who won the election, defeating Republican candidate Robert Stroup, which contradicts the claim that there were only two candidates.'}}\",\n",
       " \"{'query': {'classification': 1, 'evidence': 'Harriet Shing has been a member of the Labor party and has represented the Eastern Victoria Region since 2014, which contradicts the claim that she was a member of the Liberal party during the specified period.'}}\",\n",
       " \"{'query': {'classification': '1', 'evidence': 'The evidence indicates that Ohio State topped the team standings at the 1947 NCAA Swimming and Diving Championships, which contradicts the claim that they scored fewer points than Purdue.'}}\",\n",
       " '{\"classification\": 0, \"evidence\": \"Greenbrier West High School is identified as a public high school under the Greenbrier County School District, and Amy Robertson is mentioned as the principal, indicating her role in the school.\"}',\n",
       " \"{'query': {'classification': '0', 'evidence': 'Wellington Nascimento Carvalho is confirmed to have played for Portimonense in the Primeira Liga during the 2017-18 season, as indicated by multiple sources detailing his career statistics.'}}\",\n",
       " \"{'query': {'classification': '1', 'evidence': 'Al Stokes had 0 home runs and 7 runs batted in during his career, which explicitly contradicts the claim that he had more home runs than runs batted in.'}}\"]"
      ]
     },
     "execution_count": 7,
     "metadata": {},
     "output_type": "execute_result"
    }
   ],
   "source": [
    "print(len(answer_single))\n",
    "answer_single"
   ]
  },
  {
   "cell_type": "code",
   "execution_count": 23,
   "id": "9d6d045e-951e-4550-bdf2-757735ab8f31",
   "metadata": {
    "tags": []
   },
   "outputs": [
    {
     "data": {
      "text/plain": [
       "[2, 0, 1, 0, 0, 1, 0, 0, 0, 2, 0, 0, 2, 1, 1, 1, 1, 0, 0, 1]"
      ]
     },
     "execution_count": 23,
     "metadata": {},
     "output_type": "execute_result"
    }
   ],
   "source": [
    "res = extract_classifications(answer_single)\n",
    "res"
   ]
  },
  {
   "cell_type": "code",
   "execution_count": 24,
   "id": "6d0d3472-ea1e-4dfe-9053-00803f65fc63",
   "metadata": {
    "tags": []
   },
   "outputs": [
    {
     "name": "stdout",
     "output_type": "stream",
     "text": [
      "[1, 0, 1, 2, 0, 1, 0, 1, 0, 0, 0, 0, 0, 1, 1, 1, 1, 0, 0, 1]\n"
     ]
    }
   ],
   "source": [
    "print(list(df_val[:n][\"label\"]))"
   ]
  },
  {
   "cell_type": "code",
   "execution_count": 25,
   "id": "bee5025c-170b-4682-b1b9-37ecf4ab960e",
   "metadata": {},
   "outputs": [
    {
     "name": "stdout",
     "output_type": "stream",
     "text": [
      "Accuracy: 75.00%\n"
     ]
    },
    {
     "data": {
      "text/plain": [
       "0.75"
      ]
     },
     "execution_count": 25,
     "metadata": {},
     "output_type": "execute_result"
    }
   ],
   "source": [
    "true_labels = df_val[:n][\"label\"].tolist()\n",
    "predicted_labels = res\n",
    "calculate_accuracy(true_labels, predicted_labels)"
   ]
  },
  {
   "cell_type": "code",
   "execution_count": 12,
   "id": "916b2663-f6bb-4426-9830-56cfc745a284",
   "metadata": {},
   "outputs": [
    {
     "data": {
      "image/png": "[encoded data removed]",
      "text/plain": [
       "<Figure size 1000x800 with 2 Axes>"
      ]
     },
     "metadata": {},
     "output_type": "display_data"
    },
    {
     "name": "stdout",
     "output_type": "stream",
     "text": [
      "Accuracy: 75.00%\n",
      "F1-Score: 0.7937\n",
      "\n",
      "Detailed Classification Report:\n",
      "              precision    recall  f1-score   support\n",
      "\n",
      "           0       0.80      0.80      0.80        10\n",
      "           1       1.00      0.78      0.88         9\n",
      "           2       0.00      0.00      0.00         1\n",
      "\n",
      "    accuracy                           0.75        20\n",
      "   macro avg       0.60      0.53      0.56        20\n",
      "weighted avg       0.85      0.75      0.79        20\n",
      "\n"
     ]
    },
    {
     "data": {
      "text/plain": [
       "(0.75, 0.79375)"
      ]
     },
     "execution_count": 12,
     "metadata": {},
     "output_type": "execute_result"
    }
   ],
   "source": [
    "calculate_metrics(true_labels, predicted_labels)"
   ]
  },
  {
   "cell_type": "code",
   "execution_count": 13,
   "id": "506a98d6-2fdf-446a-8c86-71b3f3700e3a",
   "metadata": {},
   "outputs": [
    {
     "name": "stdout",
     "output_type": "stream",
     "text": [
      "File 'prediction_single.csv' created with column 'pred'.\n"
     ]
    }
   ],
   "source": [
    "save_predictions(answer_single, \"prediction_single.csv\", \"pred\")"
   ]
  },
  {
   "cell_type": "markdown",
   "id": "04bdfcc4",
   "metadata": {},
   "source": [
    "Multi Agent"
   ]
  },
  {
   "cell_type": "code",
   "execution_count": null,
   "id": "8708275c-1577-4c7e-a648-26f8018ed230",
   "metadata": {},
   "outputs": [],
   "source": [
    "# Multi Agent\n",
    "extract_agent = AgentFactory.create(\n",
    "                    name=\"Fact Extraction Agent\",\n",
    "                    description=\"You are an AI tasked with the extraction of relevant fact based on the user query from the internet using google search engines.\",\n",
    "                    instructions=\"You are an AI tasked with the extraction of relevant fact based on the user query from the internet using google search engines.\",\n",
    "                    llm_id=\"669a63646eb56306647e1091\",\n",
    "                    tools=[AgentFactory.create_model_tool(model=\"6736411cf127849667606689\"), # Tavily search\n",
    "                           ],\n",
    "                )\n",
    "\n",
    "# This agent can be optional. The multi-agent still works fine without it.\n",
    "fact_agent = AgentFactory.create(\n",
    "                    name=\"Fact Verification and Label Assignment Agent\",\n",
    "                    description=\"You are an AI responsible for verifying facts extracted from searches and assigning labels to them based on their alignment with the user's query, then outputting the labeled results.\",\n",
    "                    instructions=\"You are an AI responsible for verifying facts extracted from searches and assigning labels to them based on their alignment with the user's query, then outputting the labeled results.\",\n",
    "                    llm_id=\"669a63646eb56306647e1091\",\n",
    "                    tools=[],\n",
    "                )"
   ]
  },
  {
   "cell_type": "code",
   "execution_count": null,
   "id": "c5747907-bec0-4202-a940-ed736f5c58b5",
   "metadata": {
    "tags": []
   },
   "outputs": [],
   "source": [
    "community = TeamAgentFactory.create(\n",
    "                        name=\"Search and Fact Verification Assistant\",\n",
    "                        agents=[extract_agent, fact_agent],\n",
    "                        description=ROLE, \n",
    "                        use_mentalist = False,\n",
    "                        use_inspector = False,\n",
    "                        llm_id=\"669a63646eb56306647e1091\",\n",
    "                        # num_inspectors = 1,\n",
    "                        # inspector_targets = [\"steps\"]\n",
    "                    )"
   ]
  },
  {
   "cell_type": "code",
   "execution_count": null,
   "id": "37f428c7-180b-4b75-90a4-0725042af78c",
   "metadata": {
    "collapsed": true,
    "jupyter": {
     "outputs_hidden": true
    },
    "tags": []
   },
   "outputs": [],
   "source": [
    "answer_multi = []\n",
    "n=20\n",
    "for idx, row in enumerate(df_val[\"claim\"][:n]):\n",
    "    query = row.replace(\"–\", \"-\")\n",
    "    inp = PROMPT.format(query=query) \n",
    "    response = community.run(inp)\n",
    "    answer_multi.append(response.data.output)\n",
    "        \n",
    "    response_dir = \"multi_results\"\n",
    "    os.makedirs(response_dir, exist_ok=True)\n",
    "    response_path = os.path.join(response_dir, f\"response_{idx}.json\")\n",
    "\n",
    "    safe_dump_response_step(response, response_path)\n"
   ]
  },
  {
   "cell_type": "code",
   "execution_count": 25,
   "id": "5620d85b-c6ef-4c96-9e14-07e1bfe41999",
   "metadata": {
    "collapsed": true,
    "jupyter": {
     "outputs_hidden": true
    },
    "tags": []
   },
   "outputs": [
    {
     "name": "stdout",
     "output_type": "stream",
     "text": [
      "20\n"
     ]
    },
    {
     "data": {
      "text/plain": [
       "['```json\\n{\\n  \"claim\": \"Algebraic logic has five Logical system and Lindenbaum-Tarski algebra which includes Physics algebra and Nodal algebra.\",\\n  \"classification\": 2,\\n  \"justification\": \"The evidence is insufficient, ambiguous, or lacks enough information to verify the claim. While the Lindenbaum-Tarski algebra is a recognized structure in algebraic logic, the specific assertion regarding five logical systems and the inclusion of Physics and Nodal algebra does not have clear support in the existing literature.\"\\n}\\n```',\n",
       " '```json\\n{\\n  \"claim\": \"Aramais Yepiskoposyan played for FC Ararat Yerevan, an Armenian football club based in Yerevan during 1986 to 1991.\",\\n  \"classification\": 0,\\n  \"justification\": \"The evidence explicitly supports the claim as true.\"\\n}\\n```',\n",
       " '```json\\n{\\n  \"claim\": \"Scot\\'s book is titled The Discoverie of Witchcraft, and was never published at the end the printer gives his name, there are also four dedications one of which is to Sir Roger Manwood.\",\\n  \"classification\": 1,\\n  \"explanation\": \"The evidence explicitly refutes or contradicts the claim. Scot\\'s book is indeed titled \\'The Discoverie of Witchcraft\\' and was published in 1584, which contradicts the assertion that it was never published.\"\\n}\\n```',\n",
       " '```json\\n{\\n  \"claim\": \"Family Guy is an American animated sitcom that features five main voice actors, and numerous regular cast and also includes recurring casts such as H. Jon Benjamin who voices Carl and has appeared in 22 (out of 349) episodes, Johnny Brennan as Mort Goldman, and Horace the bartender that has appeared in 90 episodes, and Ralph Garman who has been working with the team since 2001 and has appeared in 213 episodes.\",\\n  \"classification\": 0,\\n  \"justification\": \"The evidence explicitly supports the claim as true. Family Guy is indeed an American animated sitcom featuring five main voice actors, and the details about the recurring cast members and their episode appearances are accurate.\"\\n}\\n```',\n",
       " '```json\\n{\\n  \"claim\": \"In John Laurie\\'s partial television credits, he was part of the Bees on the Boat-Deck in 1939 and Jackanory in 1971.\",\\n  \"classification\": 0,\\n  \"justification\": \"The evidence explicitly supports the claim as true. John Laurie was indeed part of the television adaptation of \\'Bees on the Boat-Deck\\' in 1939 and was involved in \\'Jackanory\\' in 1971.\"\\n}\\n```',\n",
       " '```json\\n{\\n  \"claim\": \"List of Once Upon a Time (debuted October 23, 2011) episodes consists of 10 specials, one of the narrators Alan Dale.\",\\n  \"classification\": 1,\\n  \"explanation\": \"The evidence explicitly refutes or contradicts the claim. The list of episodes for \\'Once Upon a Time\\' does not consist of 10 specials, and Alan Dale is not a narrator but an actor who played King George and Albert Spencer in the series.\"\\n}\\n```',\n",
       " '```json\\n{\\n  \"claim\": \"Per Axel Rydberg, born on July 6, 1860 in Odh, Västergötland, situated outside Sweden, was a graduate of University of Nebraska-Lincoln in the field of Botany (the science of plant life and a branch of biology).\",\\n  \"classification\": 1,\\n  \"explanation\": \"The evidence indicates that Axel Rydberg was indeed born on July 6, 1860, in Odh, Västergötland, Sweden, and he graduated from the University of Nebraska. However, the claim that he was born outside of Sweden is incorrect, as he was born in Sweden. Therefore, the evidence contradicts the claim.\"\\n}\\n```',\n",
       " '```json\\n{\\n  \"claim\": \"A village in China, in 2011 Kolhan had 693 people with around half (390) being workers.\",\\n  \"classification\": 2,\\n  \"explanation\": \"The evidence is insufficient to verify the claim regarding the number of workers, as specific data on the workforce is not provided.\"\\n}\\n```',\n",
       " '```json\\n{\\n  \"claim\": \"Xiao Sha competed in the World Championships and the World Cup.\",\\n  \"classification\": 0,\\n  \"justification\": \"The evidence explicitly supports the claim as true. Xiao Sha was part of the Chinese team at the 2007 World Championships, where China won a silver medal, and she also won gold on balance beam and bronze on floor at the Cottbus World Cup in 2008, repeating those results at the Ostrava World Cup later that year.\"\\n}\\n```',\n",
       " '```json\\n{\\n  \"claim\": \"The Glenn-Thompson Plantation, a historic plantation house near Pittsview in Russell County, Alabama, has undergone extensive renovations including the addition of four rooms and a patio in 1840, the original wood fireplace mantels have been sealed with marble hearths.\",\\n  \"classification\": 2,\\n  \"explanation\": \"The evidence regarding the Glenn-Thompson Plantation indicates that renovations occurred, but it does not specifically confirm the addition of a patio or the sealing of fireplace mantels with marble. Therefore, the evidence is insufficient to fully verify the claim.\"\\n}\\n```',\n",
       " '```json\\n{\\n  \"claim\": \"Ken Banks developed the FrontlineSMS (language: Java) in 2005 to help conservationists keep in touch with communities in Kruger National Park in South Africa.\",\\n  \"classification\": 0,\\n  \"justification\": \"The evidence explicitly supports the claim as true.\"\\n}\\n```',\n",
       " '```json\\n{\\n  \"claim\": \"Walter Tyrrell was credited with three aerial victories in Lamotte, a commune in the Somme department of northern France on the 7th day of April 1918 and two more just days after in April 11 and 12.\",\\n  \"classification\": 0,\\n  \"explanation\": \"The evidence explicitly supports the claim as true.\"\\n}\\n```',\n",
       " '```json\\n{\\n  \"claim\": \"Harman Tarrant was a member of the first incarnation for a longer time than Samuel Charles and John Stewart.\",\\n  \"classification\": 2,\\n  \"explanation\": \"The evidence is insufficient to verify the claim regarding the membership durations of Harman Tarrant, Samuel Charles, and John Stewart.\"\\n}\\n```',\n",
       " '```json\\n{\\n  \"claim\": \"2014 Sky Blue FC season number 18 Lindsi Cutshall (born October 18, 1990) played the FW position.\",\\n  \"classification\": 1,\\n  \"explanation\": \"The evidence explicitly refutes the claim, as Lindsi Cutshall played as a defender for Sky Blue FC during the 2014 season, not as a forward.\"\\n}\\n```',\n",
       " '```json\\n{\\n  \"claim\": \"1976 United States Senate election in North Dakota (held November 2, 1976) had two candidates and the winner was Quentin Burdick.\",\\n  \"classification\": 0,\\n  \"explanation\": \"The evidence explicitly supports the claim as true. The 1976 United States Senate election in North Dakota had two candidates: Quentin Burdick and Robert Stroup, with Quentin Burdick winning the election.\"\\n}\\n```',\n",
       " '```json\\n{\\n  \"claim\": \"Harrier Shing of the Liberal party has always been a member of the Eastern Victoria Region from 2006 until 2018.\",\\n  \"classification\": 1,\\n  \"explanation\": \"The evidence explicitly refutes or contradicts the claim. Harrier Shing is a member of the Labor party, not the Liberal party, and her membership in the Eastern Victoria Region is associated with the Labor party.\"\\n}\\n```',\n",
       " '```json\\n{\\n  \"claim\": \"Ohio State scored fewer points than Purdue at the 1947 NCAA Swimming and Diving Championships.\",\\n  \"classification\": 1,\\n  \"explanation\": \"The evidence explicitly refutes the claim, as Ohio State scored 151.10 points while Purdue scored only 51 points.\"\\n}\\n```',\n",
       " '```json\\n{\\n  \"claim\": \"Greenbrier West High School is a public school under the purview of Amy Robertson.\",\\n  \"classification\": 0,\\n  \"explanation\": \"The evidence explicitly supports the claim as true. Greenbrier West High School is a public high school located in Charmco, West Virginia, and Amy Robertson is identified as the principal of the school.\"\\n}\\n```',\n",
       " '```json\\n{\\n  \"claim\": \"Wellington Nascimento Carvalho is a Brazilian football player who played for Portimonense in the Primeira Liga in 2017-18.\",\\n  \"classification\": 0,\\n  \"explanation\": \"The evidence explicitly supports the claim as true.\"\\n}\\n```',\n",
       " '```json\\n{\\n  \"claim\": \"Al Stokes had more home runs than runs batted in.\",\\n  \"classification\": 1,\\n  \"explanation\": \"The evidence indicates that Al Stokes had 0 home runs and 7 runs batted in, which explicitly contradicts the claim.\"\\n}\\n```']"
      ]
     },
     "execution_count": 25,
     "metadata": {},
     "output_type": "execute_result"
    }
   ],
   "source": [
    "print(len(answer_multi))\n",
    "answer_multi"
   ]
  },
  {
   "cell_type": "code",
   "execution_count": 17,
   "id": "86e083f6-5a4f-44de-b233-38966f4c3f19",
   "metadata": {
    "tags": []
   },
   "outputs": [
    {
     "data": {
      "text/plain": [
       "[2, 0, 1, 0, 0, 1, 1, 2, 0, 2, 0, 0, 2, 1, 0, 1, 1, 0, 0, 1]"
      ]
     },
     "execution_count": 17,
     "metadata": {},
     "output_type": "execute_result"
    }
   ],
   "source": [
    "res = extract_classifications(answer_multi)\n",
    "res"
   ]
  },
  {
   "cell_type": "code",
   "execution_count": 22,
   "id": "0aaa06d1-81de-43be-ac45-eb3c64f48e78",
   "metadata": {
    "tags": []
   },
   "outputs": [
    {
     "name": "stdout",
     "output_type": "stream",
     "text": [
      "[1, 0, 1, 2, 0, 1, 0, 1, 0, 0, 0, 0, 0, 1, 1, 1, 1, 0, 0, 1]\n"
     ]
    }
   ],
   "source": [
    "print(list(df_val[:n][\"label\"]))"
   ]
  },
  {
   "cell_type": "code",
   "execution_count": 19,
   "id": "7482dc0b-299c-47e9-96a6-6272e1c07050",
   "metadata": {
    "tags": []
   },
   "outputs": [
    {
     "name": "stdout",
     "output_type": "stream",
     "text": [
      "Accuracy: 65.00%\n"
     ]
    },
    {
     "data": {
      "text/plain": [
       "0.65"
      ]
     },
     "execution_count": 19,
     "metadata": {},
     "output_type": "execute_result"
    }
   ],
   "source": [
    "true_labels = df_val[:n][\"label\"].tolist()\n",
    "predicted_labels = res\n",
    "calculate_accuracy(true_labels, predicted_labels)"
   ]
  },
  {
   "cell_type": "code",
   "execution_count": 20,
   "id": "1e34e9a7-4279-4286-87a8-d2b2cd890f9b",
   "metadata": {},
   "outputs": [
    {
     "data": {
      "image/png": "[encoded data removed]",
      "text/plain": [
       "<Figure size 1000x800 with 2 Axes>"
      ]
     },
     "metadata": {},
     "output_type": "display_data"
    },
    {
     "name": "stdout",
     "output_type": "stream",
     "text": [
      "Accuracy: 65.00%\n",
      "F1-Score: 0.7059\n",
      "\n",
      "Detailed Classification Report:\n",
      "              precision    recall  f1-score   support\n",
      "\n",
      "           0       0.78      0.70      0.74        10\n",
      "           1       0.86      0.67      0.75         9\n",
      "           2       0.00      0.00      0.00         1\n",
      "\n",
      "    accuracy                           0.65        20\n",
      "   macro avg       0.54      0.46      0.50        20\n",
      "weighted avg       0.77      0.65      0.71        20\n",
      "\n"
     ]
    },
    {
     "data": {
      "text/plain": [
       "(0.65, 0.7059210526315789)"
      ]
     },
     "execution_count": 20,
     "metadata": {},
     "output_type": "execute_result"
    }
   ],
   "source": [
    "true_labels = df_val[:n][\"label\"].tolist()\n",
    "predicted_labels = res\n",
    "calculate_metrics(true_labels, predicted_labels)"
   ]
  },
  {
   "cell_type": "code",
   "execution_count": 21,
   "id": "867d0833-10ff-45d7-a100-abf1346a90b4",
   "metadata": {},
   "outputs": [
    {
     "name": "stdout",
     "output_type": "stream",
     "text": [
      "File 'prediction_multi.csv' created with column 'pred'.\n"
     ]
    }
   ],
   "source": [
    "save_predictions(answer_multi, \"prediction_multi.csv\", \"pred\")"
   ]
  },
  {
   "cell_type": "code",
   "execution_count": null,
   "id": "66e3bd51-ee7f-4c8a-996f-e355d5f46b0a",
   "metadata": {},
   "outputs": [],
   "source": []
  }
 ],
 "metadata": {
  "kernelspec": {
   "display_name": "lang",
   "language": "python",
   "name": "python3"
  },
  "language_info": {
   "codemirror_mode": {
    "name": "ipython",
    "version": 3
   },
   "file_extension": ".py",
   "mimetype": "text/x-python",
   "name": "python",
   "nbconvert_exporter": "python",
   "pygments_lexer": "ipython3",
   "version": "3.13.2"
  }
 },
 "nbformat": 4,
 "nbformat_minor": 5
}
