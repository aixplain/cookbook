{
 "cells": [
  {
   "cell_type": "code",
   "execution_count": null,
   "id": "a2458d59-6662-4182-880e-dd6d272728f5",
   "metadata": {
    "tags": []
   },
   "outputs": [],
   "source": [
    "# !pip -q install pydantic\n",
    "# !pip -q install --upgrade aixplain\n",
    "# !pip -q install datasets scikit-learn"
   ]
  },
  {
   "cell_type": "code",
   "execution_count": null,
   "id": "dab60351-6f1c-40c6-8820-578eb45af96a",
   "metadata": {
    "tags": []
   },
   "outputs": [],
   "source": [
    "# install the libraries: pip install pandas scipy scikit-learn datasets seaborn matplotlib\n",
    "\n",
    "import os\n",
    "import json\n",
    "import re\n",
    "import ast\n",
    "from typing import List, Tuple, Optional\n",
    "import pandas as pd\n",
    "from datasets import load_dataset\n",
    "from sklearn.metrics import accuracy_score"
   ]
  },
  {
   "cell_type": "code",
   "execution_count": null,
   "id": "250d0cf4-5875-47e7-bc17-e52f57fdbdcb",
   "metadata": {
    "tags": []
   },
   "outputs": [],
   "source": [
    "import os\n",
    "os.environ[\"TEAM_API_KEY\"] = \"TEAM_API_KEY\"\n",
    "os.environ[\"SERPAPI_API_KEY\"] = \"SERPAPI_API_KEY\""
   ]
  },
  {
   "cell_type": "code",
   "execution_count": 16,
   "id": "eaa9a904-0825-4229-ab8c-6a3af589b6eb",
   "metadata": {
    "tags": []
   },
   "outputs": [],
   "source": [
    "from agentification.utilities.models import AgentExecuteInput, AgentResponse, TeamAgentExecuteInput\n",
    "from agentification.agent import AgentService\n",
    "from agentification.utilities.models import Agent, TeamAgent\n",
    "import aixplain.utils.config as aixplain_config\n",
    "from agentification.utilities.models import Agent, UtilityTool, UtilityToolType, TeamAgent, ModelTool\n",
    "from agentification.team_agent import TeamAgentService, TeamAgentExecuteInput"
   ]
  },
  {
   "cell_type": "code",
   "execution_count": null,
   "id": "cf671ada-45da-4cf5-851d-946b2d5d5029",
   "metadata": {
    "tags": []
   },
   "outputs": [],
   "source": [
    "dataset = load_dataset(\"fever/feverous\", trust_remote_code=True)\n",
    "df_val = pd.DataFrame(dataset[\"validation\"])"
   ]
  },
  {
   "cell_type": "code",
   "execution_count": null,
   "id": "eccea03a-04e4-48e6-9e00-5736c8bf704e",
   "metadata": {
    "tags": []
   },
   "outputs": [],
   "source": [
    "import ast\n",
    "import re\n",
    "import json\n",
    "from typing import List, Union\n",
    "\n",
    "def extract_classifications(answer_list: List[Union[str, dict]]) -> List[int]:\n",
    "    \"\"\"\n",
    "    Extract classifications from the answer list.\n",
    "\n",
    "    Parameters:\n",
    "        answer_list (List[Union[str, dict]]): List of answers, each being a dictionary, nested dictionary, or string containing the classification.\n",
    "\n",
    "    Returns:\n",
    "        List[int]: List of extracted classifications. If an item is invalid or cannot be classified, assigns `4`.\n",
    "    \"\"\"\n",
    "    # Define indicator words\n",
    "    positive_words = {\"claim as true\", \"supports\", \"confirms\", \"is supported\", \"validates\", \"verifies\", \"is true\"}\n",
    "    negative_words = {\"refutes\", \"contradicts\", \"disagrees\", \"denies\", \"disproves\", \"false\", \"incorrect\", \"wrong\", \"claim is false\"}\n",
    "    not_enough_words = {\"insufficient\", \"not enough\", \"cannot be verified\", \"lacks enough information\"}\n",
    "\n",
    "    def handle_dictionary(item: dict) -> int:\n",
    "        \"\"\"Extract classification from a dictionary.\"\"\"\n",
    "        key_paths = [\n",
    "            \"classification\",\n",
    "            (\"Claim Analysis\", \"Evidence Assessment\"),\n",
    "            (\"claim_analysis\", \"evidence_classification\"),\n",
    "            (\"query\", \"classification\"),\n",
    "        ]\n",
    "        for path in key_paths:\n",
    "            if isinstance(path, str):\n",
    "                classification = item.get(path)\n",
    "            elif isinstance(path, tuple):\n",
    "                classification = item\n",
    "                for key in path:\n",
    "                    classification = classification.get(key) if isinstance(classification, dict) else None\n",
    "            if classification is not None:\n",
    "                return int(classification)\n",
    "        return 4\n",
    "\n",
    "    def handle_string(item: str) -> int:\n",
    "        \"\"\"Extract classification from a string.\"\"\"\n",
    "        item_lower = item.lower()\n",
    "        match = re.search(r'\\b(\\d)(?=[:.])', item_lower)\n",
    "        if match:\n",
    "            return int(match.group(1))\n",
    "        elif any(word in item_lower for word in positive_words):\n",
    "            return 0\n",
    "        elif any(word in item_lower for word in negative_words):\n",
    "            return 1\n",
    "        elif any(word in item_lower for word in not_enough_words):\n",
    "            return 2\n",
    "        elif \"not solvable\" in item_lower:\n",
    "            return 4\n",
    "        return 4\n",
    "\n",
    "    classifications = []\n",
    "    for item in answer_list:\n",
    "        try:\n",
    "            # Handle direct digit strings\n",
    "            if isinstance(item, str) and item.strip().isdigit():\n",
    "                classifications.append(int(item))\n",
    "                continue\n",
    "\n",
    "            # Handle JSON-like strings enclosed in backticks\n",
    "            if isinstance(item, str):\n",
    "                json_content = re.findall(r'```json(.*?)```', item, re.DOTALL)\n",
    "                if json_content:\n",
    "                    try:\n",
    "                        item = ast.literal_eval(json_content[0].strip())\n",
    "                    except (ValueError, SyntaxError):\n",
    "                        pass  # If parsing fails, leave as string\n",
    "\n",
    "            # Handle dictionary input\n",
    "            if isinstance(item, dict):\n",
    "                classifications.append(handle_dictionary(item))\n",
    "                continue\n",
    "\n",
    "            # Handle plain strings\n",
    "            if isinstance(item, str):\n",
    "                classifications.append(handle_string(item))\n",
    "                continue\n",
    "\n",
    "            # Default for invalid or unparsable items\n",
    "            classifications.append(4)\n",
    "        except Exception:\n",
    "            classifications.append(4)\n",
    "\n",
    "    return classifications\n"
   ]
  },
  {
   "cell_type": "code",
   "execution_count": 20,
   "id": "aa87907e-9dd0-4c38-b8ef-30d1553f5517",
   "metadata": {
    "tags": []
   },
   "outputs": [],
   "source": [
    "def calculate_accuracy(true_labels, predicted_labels):\n",
    "    accuracy = accuracy_score(true_labels, predicted_labels)\n",
    "    print(f\"Accuracy: {accuracy * 100:.2f}%\")\n",
    "    return accuracy"
   ]
  },
  {
   "cell_type": "code",
   "execution_count": 21,
   "id": "4458ab44-a791-482c-a0eb-035b5cc81896",
   "metadata": {
    "tags": []
   },
   "outputs": [],
   "source": [
    "from sklearn.metrics import f1_score, classification_report, confusion_matrix\n",
    "import seaborn as sns\n",
    "import matplotlib.pyplot as plt\n",
    "\n",
    "def calculate_metrics(true_labels, predicted_labels):\n",
    "    # Calculate accuracy\n",
    "    accuracy = accuracy_score(true_labels, predicted_labels)\n",
    "    \n",
    "    # Calculate F1-score\n",
    "    f1 = f1_score(true_labels, predicted_labels, average='weighted')\n",
    "    \n",
    "    # Get detailed classification report\n",
    "    report = classification_report(true_labels, predicted_labels, zero_division=1)\n",
    "    \n",
    "    # Calculate confusion matrix\n",
    "    cm = confusion_matrix(true_labels, predicted_labels)\n",
    "    \n",
    "    # Create confusion matrix visualization\n",
    "    plt.figure(figsize=(10,8))\n",
    "    sns.heatmap(cm, annot=True, fmt='d', cmap='Blues')\n",
    "    plt.title('Confusion Matrix')\n",
    "    plt.ylabel('True Label')\n",
    "    plt.xlabel('Predicted Label')\n",
    "    plt.show()\n",
    "    \n",
    "    print(f\"Accuracy: {accuracy * 100:.2f}%\")\n",
    "    print(f\"F1-Score: {f1:.4f}\")\n",
    "    print(\"\\nDetailed Classification Report:\")\n",
    "    print(report)\n",
    "    \n",
    "    return accuracy, f1"
   ]
  },
  {
   "cell_type": "code",
   "execution_count": 22,
   "id": "5f2a3317-20fc-4bd9-95b4-513f7116f6a9",
   "metadata": {
    "tags": []
   },
   "outputs": [],
   "source": [
    "def save_predictions(data_val, file_name=\"predict_val.csv\", column=\"New Column\"):\n",
    "    \"\"\"\n",
    "    Save or update predictions in a CSV file, adding a new column each time.\n",
    "\n",
    "    Parameters:\n",
    "        data_val (list): The data to be saved as a new column.\n",
    "        file_name (str): The name of the CSV file.\n",
    "        column (str): The name of the column to add.\n",
    "    \"\"\"\n",
    "    if os.path.exists(file_name):\n",
    "        # Load the existing file\n",
    "        df_output = pd.read_csv(file_name)\n",
    "        if len(df_output) != len(data_val):\n",
    "            raise ValueError(f\"Length of new column ({len(data_val)}) does not match existing rows ({len(df_output)}).\")\n",
    "            \n",
    "        # Add the new column\n",
    "        df_output[column] = data_val\n",
    "        print(f\"Added column '{column}' to existing file '{file_name}'.\")\n",
    "    else:\n",
    "        # Create a new DataFrame with the data\n",
    "        df_output = pd.DataFrame(data_val, columns=[column])\n",
    "        print(f\"File '{file_name}' created with column '{column}'.\")\n",
    "\n",
    "    # Save the updated DataFrame back to the CSV file\n",
    "    df_output.to_csv(file_name, index=False)"
   ]
  },
  {
   "cell_type": "code",
   "execution_count": null,
   "id": "5d9b9e1d-500e-4cee-a4b7-897d1d302297",
   "metadata": {
    "tags": []
   },
   "outputs": [],
   "source": [
    "ROLE = \"\"\"You are an AI fact verification agent trained to research, analyze claims, and classify them into specified categories.\n",
    "\n",
    "You have access to search tools to explore the web and verify claims. If ethical concerns arise with the input, classify the task as **NOT_SOLVABLE** and provide a clear explanation of the issue.\n",
    "\n",
    "Always adhere strictly to the provided output format.\n",
    "\n",
    "Output format:\n",
    "```json\n",
    "{{\n",
    "  \"classification\": \"Answer\",\n",
    "  \"evidence\": \"A concise explanation of how the evidence supports the classification.\"\n",
    "}}\n",
    "```\"\"\""
   ]
  },
  {
   "cell_type": "code",
   "execution_count": 77,
   "id": "9c8b7b85-6816-43d4-85e0-7bd170e2cf4a",
   "metadata": {
    "tags": []
   },
   "outputs": [],
   "source": [
    "PROMPT=\"\"\"Analyze and classify the claim below using the outlined architecture:\n",
    "\n",
    "    0: The evidence explicitly supports the claim as true.\n",
    "    1: The evidence explicitly refutes or contradicts the claim.\n",
    "    2: The evidence is insufficient, ambiguous, or lacks enough information to verify the claim.\n",
    "\n",
    "Claim: {query}\n",
    "\n",
    "Provide your response strictly in the required ***JSON format***:\"\"\""
   ]
  },
  {
   "cell_type": "code",
   "execution_count": 79,
   "id": "8def9830-112b-4f7f-9d74-19d703c5f7a8",
   "metadata": {
    "tags": []
   },
   "outputs": [
    {
     "name": "stdout",
     "output_type": "stream",
     "text": [
      "02Jan2025_17:33:26\n"
     ]
    }
   ],
   "source": [
    "from time import gmtime, strftime\n",
    "curr = time.time()\n",
    "c_time = strftime(\"%d%b%Y_%H:%M:%S\", gmtime(curr))\n",
    "print(c_time)"
   ]
  },
  {
   "cell_type": "code",
   "execution_count": 248,
   "id": "85f22ede-93fe-4760-9b72-650b05190176",
   "metadata": {
    "tags": []
   },
   "outputs": [],
   "source": [
    "agent = Agent(\n",
    "                id=\"\",\n",
    "                name=\"Search and Fact Verification Assistant\",\n",
    "                assets=[\n",
    "                        UtilityTool(\n",
    "                            type=\"utility\",\n",
    "                            utility=UtilityToolType.SERPAPI,\n",
    "                            description=\"A search engine. Useful for when you need to answer questions about current events. Input should be a search query.\",\n",
    "                        ),\n",
    "                ],\n",
    "                description=ROLE,\n",
    "                status=\"onboarded\",\n",
    "                teamId=1,\n",
    "                llmId=\"66b2708c6eb5635d1c71f611\", #llama 3.1B\n",
    "            )"
   ]
  },
  {
   "cell_type": "code",
   "execution_count": null,
   "id": "640f2edc-cc7b-4a12-ada3-16ecb56ad1c0",
   "metadata": {
    "collapsed": true,
    "jupyter": {
     "outputs_hidden": true
    },
    "tags": []
   },
   "outputs": [],
   "source": [
    "n=20\n",
    "answer_val = []\n",
    "for idx, row in enumerate(df_val[\"claim\"][:n]):\n",
    "    for i in range(3):\n",
    "        query = row.replace(\"–\", \"-\")\n",
    "        inp = PROMPT.format(query=query) \n",
    "        response = AgentService.run(\n",
    "                        AgentExecuteInput(\n",
    "                            agent=agent,\n",
    "                            query=str(inp),\n",
    "                            chat_history=[],\n",
    "                            api_key=os.getenv(\"TEAM_API_KEY\"),\n",
    "                            session_id=\"1234\",\n",
    "                            executionParams={\"maxIterations\": 20},\n",
    "                        ),\n",
    "                        chat_history=[],\n",
    "                )\n",
    "        answer_val.append(response.output)\n",
    "        print(\"============= New Problem (Single Agent) ===============\")\n",
    "        print(inp)\n",
    "        print(response.output)\n",
    "        print()\n",
    "        print(\"============= Next Problem (Single Agent) ===============\")\n",
    "        with open(f\"docs/experiments/fever/models/single_agent_llama/results/{idx}_{i}:{c_time}.json\", \"w\") as f:\n",
    "            f.write(response.model_dump_json(indent=4))\n",
    "            \n",
    "        if response.output.lower().startswith(\"sorry\") is False:\n",
    "            break"
   ]
  },
  {
   "cell_type": "code",
   "execution_count": 250,
   "id": "6f724838-3cde-44ef-9302-78acfbdf278d",
   "metadata": {
    "collapsed": true,
    "jupyter": {
     "outputs_hidden": true
    },
    "tags": []
   },
   "outputs": [
    {
     "name": "stdout",
     "output_type": "stream",
     "text": [
      "20\n"
     ]
    },
    {
     "data": {
      "text/plain": [
       "['{\"classification\": \"2\", \"evidence\": \"The information obtained does not explicitly support or refute the claim about Algebraic logic having five Logical systems and Lindenbaum-Tarski algebra, which includes Physics algebra and Nodal algebra. The evidence is insufficient, ambiguous, or lacks enough information to verify the claim.\"}',\n",
       " 'The evidence explicitly supports the claim as true. According to the information obtained, Aramais Yepiskoposyan played for FC Ararat Yerevan from 1986 to 1991, which verifies the claim.',\n",
       " \"The claim that Scot's book is titled The Discoverie of Witchcraft is true, however information about the printer giving his name at the end and the four dedications, one of which is to Sir Roger Manwood, is not found in the available information, thus the evidence is insufficient to fully verify the claim.\",\n",
       " '{\"classification\": \"0\", \"evidence\": \"The information obtained from the search queries confirms that Family Guy is an American animated sitcom with the mentioned main voice actors and recurring cast, including H. Jon Benjamin and Ralph Garman, although the exact number of episodes they appeared in could not be verified with absolute certainty, the claim about the show and its cast is generally supported.\"}',\n",
       " 'The claim is classified as 0: The evidence explicitly supports the claim as true, based on information that John Laurie was part of the Bees on the Boat-Deck in 1939 and Jackanory in 1971, which matches the provided claim.',\n",
       " \"The evidence is insufficient, ambiguous, or lacks enough information to verify the claim. Based on the information obtained, it is known that the series 'Once Upon a Time' aired from October 23, 2011, to May 18, 2018, and consists of 155 episodes, but there is no explicit information about the list of episodes consisting of 10 specials or Alan Dale being one of the narrators.\",\n",
       " 'The claim that Per Axel Rydberg was born outside Sweden is false, as information indicates he was born in Odh, Västergötland, Sweden. However, it is true that he graduated from the University of Nebraska–Lincoln. Thus, the evidence explicitly refutes part of the claim and supports another part, but since the birthplace is explicitly contradicted, the classification is 1: The evidence explicitly refutes or contradicts the claim.',\n",
       " 'The evidence is insufficient, ambiguous, or lacks enough information to verify the claim, as the search results do not provide specific information about a village in China named Kolhan with a population of 693 people in 2011, and instead seem to refer to different locations or topics.',\n",
       " 'The claim is classified as 0: The evidence explicitly supports the claim as true, based on information that Xiao Sha won a silver medal at the 2007 World Championships and gold on balance beam and bronze on floor at the 2008 Cottbus World Cup.',\n",
       " 'The evidence is insufficient, ambiguous, or lacks enough information to verify the claim, as the information obtained does not explicitly mention the renovations, including the addition of four rooms and a patio in 1840, or the original wood fireplace mantels being sealed with marble hearths, therefore the claim is classified as 2.',\n",
       " 'The evidence explicitly supports the claim as true. According to the information obtained, Ken Banks developed FrontlineSMS in 2005, and it was used to help conservationists keep in touch with communities in Kruger National Park in South Africa. The classification of the claim is 0.',\n",
       " 'The evidence explicitly supports the claim as true, based on information that Walter Tyrrell claimed three enemy fighters shot down over Lamotte on 7 April 1918 and gained two more victories on 11 and 12 April.',\n",
       " 'The evidence is insufficient, ambiguous, or lacks enough information to verify the claim. Therefore, the classification is 2.',\n",
       " 'The evidence explicitly refutes or contradicts the claim. According to the information, Lindsi Cutshall played as a defender (DF), not a forward (FW).',\n",
       " 'The evidence explicitly supports the claim as true. According to the information obtained, Quentin Burdick was the winner of the 1976 United States Senate election in North Dakota, which was held on November 2, 1976.',\n",
       " 'The evidence explicitly refutes or contradicts the claim. According to the information obtained, Harriet Shing has been a member of the Eastern Victoria Region, but the claim that she has always been a member of the Liberal party from 2006 until 2018 is false. The information indicates that Harriet Shing is a Labor member of the Victorian Legislative Council, having represented the Eastern Victoria Region, and was first elected in 2014.',\n",
       " 'Based on the information obtained, the claim that Ohio State scored fewer points than Purdue at the 1947 NCAA Swimming and Diving Championships is false. The evidence indicates that Ohio State scored 66 points, while Purdue scored 10 points.',\n",
       " 'Based on the information obtained, the claim that Greenbrier West High School is a public school under the purview of Amy Robertson is classified as 1: The evidence explicitly refutes or contradicts the claim. The information indicates that Adam Young is the principal of Greenbrier West High School, not Amy Robertson.',\n",
       " 'The evidence explicitly supports the claim as true, based on information that Wellington Nascimento Carvalho played for Portimonense, which was found in the provided data.',\n",
       " 'The evidence explicitly refutes or contradicts the claim. According to the information obtained, Al Stokes had 0 home runs and 7 runs batted in throughout his career, which directly contradicts the claim that he had more home runs than runs batted in.']"
      ]
     },
     "execution_count": 250,
     "metadata": {},
     "output_type": "execute_result"
    }
   ],
   "source": [
    "print(len(answer_val))\n",
    "answer_val"
   ]
  },
  {
   "cell_type": "code",
   "execution_count": 256,
   "id": "9d6d045e-951e-4550-bdf2-757735ab8f31",
   "metadata": {
    "tags": []
   },
   "outputs": [
    {
     "data": {
      "text/plain": [
       "[2, 0, 0, 0, 0, 2, 1, 2, 0, 2, 0, 0, 2, 1, 0, 1, 1, 1, 0, 1]"
      ]
     },
     "execution_count": 256,
     "metadata": {},
     "output_type": "execute_result"
    }
   ],
   "source": [
    "n = 20\n",
    "res = extract_classifications(answer_val)\n",
    "res"
   ]
  },
  {
   "cell_type": "code",
   "execution_count": 264,
   "id": "6d0d3472-ea1e-4dfe-9053-00803f65fc63",
   "metadata": {
    "tags": []
   },
   "outputs": [
    {
     "name": "stdout",
     "output_type": "stream",
     "text": [
      "[1, 0, 1, 2, 0, 1, 0, 1, 0, 0, 0, 0, 0, 1, 1, 1, 1, 0, 0, 1]\n"
     ]
    }
   ],
   "source": [
    "print(list(df_val[:n][\"label\"]))"
   ]
  },
  {
   "cell_type": "code",
   "execution_count": 258,
   "id": "bee5025c-170b-4682-b1b9-37ecf4ab960e",
   "metadata": {},
   "outputs": [
    {
     "name": "stdout",
     "output_type": "stream",
     "text": [
      "Accuracy: 50.00%\n"
     ]
    },
    {
     "data": {
      "text/plain": [
       "0.5"
      ]
     },
     "execution_count": 258,
     "metadata": {},
     "output_type": "execute_result"
    }
   ],
   "source": [
    "true_labels = df_val[:n][\"label\"].tolist()\n",
    "predicted_labels = res\n",
    "calculate_accuracy(true_labels, predicted_labels)"
   ]
  },
  {
   "cell_type": "code",
   "execution_count": 259,
   "id": "916b2663-f6bb-4426-9830-56cfc745a284",
   "metadata": {},
   "outputs": [
    {
     "data": {
      "image/png": "[encoded data removed]",
      "text/plain": [
       "<Figure size 1000x800 with 2 Axes>"
      ]
     },
     "metadata": {},
     "output_type": "display_data"
    },
    {
     "name": "stdout",
     "output_type": "stream",
     "text": [
      "Accuracy: 50.00%\n",
      "F1-Score: 0.5558\n",
      "\n",
      "Detailed Classification Report:\n",
      "              precision    recall  f1-score   support\n",
      "\n",
      "           0       0.67      0.60      0.63        10\n",
      "           1       0.67      0.44      0.53         9\n",
      "           2       0.00      0.00      0.00         1\n",
      "\n",
      "    accuracy                           0.50        20\n",
      "   macro avg       0.44      0.35      0.39        20\n",
      "weighted avg       0.63      0.50      0.56        20\n",
      "\n"
     ]
    },
    {
     "data": {
      "text/plain": [
       "(0.5, 0.5557894736842105)"
      ]
     },
     "execution_count": 259,
     "metadata": {},
     "output_type": "execute_result"
    }
   ],
   "source": [
    "calculate_metrics(true_labels, predicted_labels)"
   ]
  },
  {
   "cell_type": "code",
   "execution_count": 255,
   "id": "506a98d6-2fdf-446a-8c86-71b3f3700e3a",
   "metadata": {},
   "outputs": [
    {
     "name": "stdout",
     "output_type": "stream",
     "text": [
      "File 'prediction_single.csv:02Jan2025_17:33:26' created with column 'pred'.\n"
     ]
    }
   ],
   "source": [
    "save_predictions(answer_val, f\"prediction_single.csv:{c_time}\", \"pred\")"
   ]
  },
  {
   "cell_type": "code",
   "execution_count": null,
   "id": "74aef698-5b00-4b71-9bb0-f345e45e550a",
   "metadata": {},
   "outputs": [],
   "source": []
  },
  {
   "cell_type": "code",
   "execution_count": null,
   "id": "8708275c-1577-4c7e-a648-26f8018ed230",
   "metadata": {},
   "outputs": [],
   "source": [
    "# Multi Agent"
   ]
  },
  {
   "cell_type": "code",
   "execution_count": null,
   "id": "c5747907-bec0-4202-a940-ed736f5c58b5",
   "metadata": {
    "tags": []
   },
   "outputs": [],
   "source": [
    "extract_agent = Agent(\n",
    "                        id=\"\",\n",
    "                        name=\"Fact Extraction Agent\",\n",
    "                        assets=[\n",
    "                            UtilityTool(\n",
    "                                type=\"utility\",\n",
    "                                utility=UtilityToolType.SERPAPI,\n",
    "                                description=\"A search engine. Useful for when you need to answer questions about current events. Input should be a search query.\",\n",
    "                            ),\n",
    "                        ],\n",
    "                        description=\"You are an AI tasked with the extraction of relevant fact based on the user query from the internet using google search engines.\",\n",
    "                        status=\"onboarded\",\n",
    "                        teamId=1,\n",
    "                        llmId=\"66b2708c6eb5635d1c71f611\", #llama 3.1B\n",
    "                    )\n",
    "# This agent can be optional. The multi-agent still works fine without it.\n",
    "fact_agent = Agent(\n",
    "                    id=\"\",\n",
    "                    name=\"Fact Verification and Label Assignment Agent\",\n",
    "                    assets=[],\n",
    "                    description=\"You are an AI responsible for verifying facts extracted from searches and assigning labels to them based on their alignment with the user's query, then outputting the labeled results.\",\n",
    "                    status=\"onboarded\",\n",
    "                    teamId=1,\n",
    "                    llmId=\"66b2708c6eb5635d1c71f611\",  \n",
    "                )\n",
    "\n",
    "community = TeamAgent(\n",
    "                        id=\"66e81e65384523f1ba02ca6c\",\n",
    "                        agents=[extract_agent, fact_agent],\n",
    "                        links=[],\n",
    "                        name=\"Search and Fact Verification Assistant\",\n",
    "                        status=\"onboarded\",\n",
    "                        teamId=1,\n",
    "                        llmId=\"66b2708c6eb5635d1c71f611\", #Llama 3.1 70B\n",
    "                        supervisorId=\"66b2708c6eb5635d1c71f611\", #Llama 3.1 70B\n",
    "                        plannerId=\"66b2708c6eb5635d1c71f611\", #Llama 3.1 70B\n",
    "                        assets=[],\n",
    "                        description=ROLE\n",
    "                    )"
   ]
  },
  {
   "cell_type": "code",
   "execution_count": null,
   "id": "37f428c7-180b-4b75-90a4-0725042af78c",
   "metadata": {
    "collapsed": true,
    "jupyter": {
     "outputs_hidden": true
    },
    "tags": []
   },
   "outputs": [],
   "source": [
    "answer_valm = []\n",
    "n=20\n",
    "for idx, row in enumerate(df_val[\"claim\"][:n]):\n",
    "    for i in range(3):\n",
    "        query = row.replace(\"–\", \"-\")\n",
    "        inp = PROMPT.format(query=query) \n",
    "        response = TeamAgentService.run(\n",
    "            TeamAgentExecuteInput(\n",
    "                agent=community,\n",
    "                query=inp,\n",
    "                chat_history=None,\n",
    "                api_key=os.getenv(\"TEAM_API_KEY\"),\n",
    "                session_id=\"1234\",\n",
    "                executionParams={\"maxIterations\": 60},\n",
    "                verbose=True,\n",
    "            )\n",
    "        )\n",
    "        answer_valm.append(response.output)\n",
    "        print(\"============= New Problem (Multi Agent) ===============\")\n",
    "        print(inp)\n",
    "        print(response.output)\n",
    "        print()\n",
    "        print(\"============= Next Problem (Multi Agent) ===============\")\n",
    "        with open(f\"docs/experiments/fever/models/multi_agent_llama/results/{idx}_{i}:{c_time}.json\", \"w\") as f:\n",
    "            f.write(response.model_dump_json(indent=4))\n",
    "            \n",
    "        if response.output.lower().startswith(\"sorry\") is False:\n",
    "            break"
   ]
  },
  {
   "cell_type": "code",
   "execution_count": 82,
   "id": "5620d85b-c6ef-4c96-9e14-07e1bfe41999",
   "metadata": {
    "collapsed": true,
    "jupyter": {
     "outputs_hidden": true
    },
    "tags": []
   },
   "outputs": [
    {
     "name": "stdout",
     "output_type": "stream",
     "text": [
      "20\n"
     ]
    },
    {
     "data": {
      "text/plain": [
       "['```json\\n{\\n  \"Claim Analysis\": {\\n    \"Claim\": \"Algebraic logic has five Logical systems and Lindenbaum-Tarski algebra which includes Physics algebra and Nodal algebra (provide models of propositional modal logics)\",\\n    \"Evidence Assessment\": 0,\\n    \"Justification\": \"The evidence explicitly supports the claim as true. Algebraic logic indeed encompasses various logical systems and is closely related to Lindenbaum-Tarski algebra, which provides a framework for studying logical structures through algebraic means. This includes the incorporation of Physics algebra and Nodal algebra, contributing to the modeling of propositional modal logics.\"\\n  },\\n  \"Worker\": {\\n    \"Name\": \"Fact Extraction Agent\",\\n    \"Input\": \"Extract relevant information from the internet about Algebraic logic, Logical systems, Lindenbaum-Tarski algebra, Physics algebra, and Nodal algebra, specifically focusing on the claim that Algebraic logic has five Logical systems and Lindenbaum-Tarski algebra, which includes Physics algebra and Nodal algebra, and provide models of propositional modal logics.\",\\n    \"Response\": \"Algebraic logic is a field of study that combines methods from algebra and logic to examine logical systems. It has five main logical systems and is closely related to Lindenbaum-Tarski algebra, which includes Physics algebra and Nodal algebra. The Lindenbaum-Tarski algebra provides a powerful tool for studying logical systems by transforming complex logical structures into manageable algebraic ones.\"\\n  }\\n}\\n```',\n",
       " '```json\\n{\\n  \"claim\": \"Aramais Yepiskoposyan played for FC Ararat Yerevan, an Armenian football club based in Yerevan during 1986 to 1991\",\\n  \"classification\": 0,\\n  \"evidence\": \"Aramais Yepiskoposyan played for FC Ararat Yerevan from 1986 to 1991, with 10 appearances and 0 goals\",\\n  \"verification\": \"The evidence explicitly supports the claim as true\"\\n}\\n```',\n",
       " \"I couldn't provide an answer because the maximum number of iterations was reached. Please try breaking the instruction into smaller questions by looking at the intermediate steps.\",\n",
       " \"I couldn't provide an answer because the maximum number of iterations was reached. Please try breaking the instruction into smaller questions by looking at the intermediate steps.\",\n",
       " '```json\\n{\\n  \"claim\": \"In John Laurie\\'s partial television credits, he was part of the Bees on the Boat-Deck in 1939 and Jackanory in 1971.\",\\n  \"classification\": 0,\\n  \"evidence\": \"John Laurie participated in the TV show Bees on the Boat-Deck in 1939 and Jackanory in 1971, where he read stories such as The Princess and the Goblin\",\\n  \"verification\": \"The evidence explicitly supports the claim that John Laurie participated in Bees on the Boat-Deck in 1939 and Jackanory in 1971.\"\\n}\\n```',\n",
       " '```json\\n{\\n  \"claim\": \"List of Once Upon a Time (debuted October 23, 2011) episodes consists of 10 specials, one of the narrators Alan Dale.\",\\n  \"classification\": 2,\\n  \"justification\": \"The evidence obtained confirms that Alan Dale is involved as a narrator for at least one special, but it does not explicitly state that the total number of specials is 10. Therefore, the evidence is insufficient to verify the claim.\",\\n  \"intermediate_steps\": [\\n    {\\n      \"step\": \"INTERMEDIATE STEP 1\",\\n      \"worker\": \"Fact Extraction Agent\",\\n      \"input\": \"Extract information about Once Upon a Time episodes and narrators, specifically looking for details about the number of specials and the involvement of Alan Dale as a narrator, to verify the claim that the list of Once Upon a Time episodes consists of 10 specials and one of the narrators is Alan Dale.\",\\n      \"response\": \"The information obtained indicates that there are multiple specials for the show \\'Once Upon a Time\\', with one of them being narrated by Alan Dale, titled \\'The Price of Magic\\'. However, the total number of specials is not explicitly stated as 10 in the information provided. It is confirmed that Alan Dale is involved as a narrator for at least one special.\"\\n    },\\n    {\\n      \"step\": \"INTERMEDIATE STEP 2\",\\n      \"worker\": \"Fact Verification and Label Assignment Agent\",\\n      \"input\": \"Verify the claim that the list of Once Upon a Time episodes consists of 10 specials and one of the narrators is Alan Dale, based on the evidence that there are multiple specials for the show, one of them being narrated by Alan Dale, titled \\'The Price of Magic\\', but the total number of specials is not explicitly stated as 10. Classify the claim into one of the three categories: 0 (the evidence explicitly supports the claim as true), 1 (the evidence explicitly refutes or contradicts the claim), or 2 (the evidence is insufficient, ambiguous, or lacks enough information to verify the claim).\",\\n      \"response\": \"2\"\\n    }\\n  ]\\n}\\n```',\n",
       " '```json\\n{\\n  \"claim\": \"Per Axel Rydberg, born on July 6, 1860 in Odh, Västergötland, situated outside Sweden, was a graduate of University of Nebraska-Lincoln in the field of Botany\",\\n  \"classification\": 1,\\n  \"justification\": \"The evidence explicitly refutes or contradicts the claim. The claim states that Per Axel Rydberg was born in Odh, Västergötland, situated outside Sweden, but the extracted information confirms that Odh, Västergötland is actually located in Sweden. Although the claim about graduating from the University of Nebraska-Lincoln is partially supported, the discrepancy regarding the location of Odh, Västergötland and the lack of explicit information about the field of study as Botany contribute to the overall classification of the claim being refuted or contradicted by the evidence.\"\\n}\\n```',\n",
       " '```json\\n{\\n  \"claim\": \"A village in China, in 2011 Kolhan had 693 people with around half (390) being workers.\",\\n  \"classification\": 1,\\n  \"reasoning\": \"The evidence explicitly refutes or contradicts the claim. The population of Kolhan is stated to be 579, not 693, which directly contradicts the claim.\",\\n  \"intermediate_steps\": [\\n    {\\n      \"step\": \"Fact Extraction\",\\n      \"input\": \"Extract relevant information about Kolhan\\'s population and workforce in 2011 to analyze the claim that in 2011 Kolhan had 693 people with around half (390) being workers.\",\\n      \"response\": \"The claim that in 2011 Kolhan had 693 people with around half (390) being workers seems to be partially supported by the information that Kolhan village has a population of 579 and workers (all) of 390, but the exact population and workforce details of Kolhan in 2011 are not entirely clear from the available data.\"\\n    },\\n    {\\n      \"step\": \"Fact Verification and Label Assignment\",\\n      \"input\": \"Verify the extracted facts and classify the claim based on the evidence found, considering the population and workforce details of Kolhan in 2011. The extracted information states that Kolhan village has a population of 579 and workers (all) of 390, but the exact population and workforce details of Kolhan in 2011 are not entirely clear from the available data. The claim to be analyzed is: \\\\\"A village in China, in 2011 Kolhan had 693 people with around half (390) being workers.\\\\\" Classify this claim using the outlined architecture: 0 (the evidence explicitly supports the claim as true), 1 (the evidence explicitly refutes or contradicts the claim), or 2 (the evidence is insufficient, ambiguous, or lacks enough information to verify the claim).\",\\n      \"response\": \"The claim is classified as 1, as the evidence explicitly refutes or contradicts the claim. The population of Kolhan is stated to be 579, not 693, which directly contradicts the claim.\"\\n    }\\n  ]\\n}\\n```',\n",
       " '```json\\n{\\n  \"claim\": \"Xiao Sha competed in the World Championships and the World Cup\",\\n  \"classification\": 2,\\n  \"justification\": \"The evidence explicitly supports Xiao Sha\\'s participation in the World Championships, but it is insufficient or lacks enough information to verify her participation in the World Cup.\",\\n  \"intermediate_steps\": [\\n    {\\n      \"step\": \"INTERMEDIATE STEP 1\",\\n      \"worker\": \"Fact Extraction Agent\",\\n      \"input\": \"Extract information about Xiao Sha\\'s participation in the World Championships and the World Cup, specifically focusing on any available data or records that confirm or deny Xiao Sha\\'s involvement in these events, to provide a foundation for further verification and classification of the claim that Xiao Sha competed in the World Championships and the World Cup.\",\\n      \"response\": \"Xiao Sha participated in the 2007 World Championships, where China won the silver medal for team, and she also came 7th in the all-around final. However, there is no information available that confirms her participation in the World Cup.\"\\n    }\\n  ]\\n}\\n```',\n",
       " '```json\\n{\\n  \"claim_analysis\": {\\n    \"claim\": \"The Glenn-Thompson Plantation, a historic plantation house near Pittsview in Russell County, Alabama, has undergone extensive renovations including the addition of four rooms and a patio in 1840, the original wood fireplace mantels have been sealed with marble hearths.\",\\n    \"evidence_classification\": 0,\\n    \"justification\": \"The evidence explicitly supports the claim as true. According to the extracted information, the Glenn-Thompson Plantation\\'s renovations in 1840 did include the addition of four main rooms and a shed-roofed patio, and the original wood fireplace mantels were sealed with marble hearths.\"\\n  }\\n}\\n```',\n",
       " '```json\\n{\\n  \"claim\": \"Ken Banks developed the FrontlineSMS (language: Java) in 2005 to help conservationists keep in touch with communities in Kruger National Park in South Africa\",\\n  \"classification\": 2,\\n  \"justification\": \"The evidence explicitly supports the development year (2005) and initial purpose of FrontlineSMS, but it is insufficient to verify the programming language used (Java).\"\\n}\\n```',\n",
       " '```json\\n{\\n  \"claim\": \"Walter Tyrrell was credited with three aerial victories in Lamotte, a commune in the Somme department of northern France on the 7th day of April 1918 and two more just days after in April 11 and 12\",\\n  \"classification\": 0,\\n  \"evidence\": \"Walter Tyrrell was credited with three aerial victories on April 7, 1918, over Lamotte, and two more on April 11 and 12, 1918, over the Lys Front\",\\n  \"verification\": \"The evidence explicitly supports the claim as true\"\\n}\\n```',\n",
       " '```json\\n{\\n  \"claim\": \"Harman Tarrant was a member of the first incarnation for a longer time than Samuel Charles and John Stewart\",\\n  \"classification\": 2,\\n  \"classification_description\": \"The evidence is insufficient, ambiguous, or lacks enough information to verify the claim\",\\n  \"reasoning\": \"The Fact Extraction Agent was unable to extract sufficient data on their tenures due to iteration or time limits, despite multiple attempts with optimized search queries and alternative search tools or methods.\"\\n}\\n```',\n",
       " '```json\\n{\\n  \"claim\": \"2014 Sky Blue FC season number 18 Lindsi Cutshall (born October 18, 1990) played the FW position.\",\\n  \"classification\": 1,\\n  \"evidence\": \"Lindsi Cutshall played as a defender (DF) with the jersey number 18 for Sky Blue FC in the 2014 season.\",\\n  \"analysis\": \"The evidence explicitly refutes the claim that Lindsi Cutshall played as a forward (FW) with the number 18, as it is stated she played as a defender (DF) with the jersey number 18 for Sky Blue FC in the 2014 season.\"\\n}\\n```',\n",
       " '```json\\n{\\n  \"claim\": \"1976 United States Senate election in North Dakota (held November 2, 1976) had two candidates and the winner was Quentin Burdick.\",\\n  \"evidence\": {\\n    \"number_of_candidates\": 3,\\n    \"winner\": \"Quentin Burdick\",\\n    \"winner_vote_percentage\": 62.10\\n  },\\n  \"classification\": 1,\\n  \"reasoning\": \"The evidence explicitly refutes the claim that the election had two candidates, as it is stated that there were three candidates. However, the evidence supports the claim that the winner was Quentin Burdick.\"\\n}\\n```',\n",
       " '```json\\n{\\n  \"claim\": \"Harrier Shing of the Liberal party has always been a member of the Eastern Victoria Region from 2006 until 2018\",\\n  \"classification\": 1,\\n  \"evidence\": \"Harriet Shing is a Labor member of the Victorian Legislative Council, having represented the Eastern Victoria Region since 2014, not a Liberal party member.\",\\n  \"verification\": \"The evidence explicitly refutes or contradicts the claim.\"\\n}\\n```',\n",
       " '***JSON format*** response:\\n```\\n{\\n  \"claim\": \"Ohio State scored fewer points than Purdue at the 1947 NCAA Swimming and Diving Championships\",\\n  \"classification\": 2,\\n  \"reasoning\": \"The evidence is insufficient, ambiguous, or lacks enough information to verify the claim. No data or information is provided about the 1947 NCAA Swimming and Diving Championships, making it impossible to determine the accuracy of the claim.\"\\n}\\n```',\n",
       " '```json\\n{\\n  \"claim\": \"Greenbrier West High School is a public school under the purview of Amy Robertson\",\\n  \"classification\": 1,\\n  \"justification\": \"The evidence explicitly refutes or contradicts the claim because Amy Robertson has served as the school\\'s principal in the past, but the current principal is Adam Young, indicating that Amy Robertson is not currently in charge.\"\\n}\\n```',\n",
       " '```json\\n{\\n  \"claim\": \"Wellington Nascimento Carvalho is a Brazilian football player who played for Portimonense in the Primeira Liga in 2017-18.\",\\n  \"classification\": 0,\\n  \"justification\": \"The evidence explicitly supports the claim as true. According to the extracted information, Wellington Nascimento Carvalho played for Portimonense in the Primeira Liga during the 2017-18 season, confirming his involvement with the team during that period.\"\\n}\\n```',\n",
       " '```json\\n{\\n  \"claim\": \"Al Stokes had more home runs than runs batted in\",\\n  \"classification\": 1,\\n  \"evidence\": \"Al Stokes had no home runs and 7 RBIs in his career\",\\n  \"explanation\": \"The evidence explicitly refutes the claim, as having no home runs is less than having 7 RBIs.\"\\n}\\n```']"
      ]
     },
     "execution_count": 82,
     "metadata": {},
     "output_type": "execute_result"
    }
   ],
   "source": [
    "print(len(answer_valm))\n",
    "answer_valm"
   ]
  },
  {
   "cell_type": "code",
   "execution_count": 241,
   "id": "86e083f6-5a4f-44de-b233-38966f4c3f19",
   "metadata": {
    "tags": []
   },
   "outputs": [
    {
     "data": {
      "text/plain": [
       "[0, 0, 4, 4, 0, 2, 1, 1, 2, 0, 2, 0, 2, 1, 1, 1, 2, 1, 0, 1]"
      ]
     },
     "execution_count": 241,
     "metadata": {},
     "output_type": "execute_result"
    }
   ],
   "source": [
    "res = extract_classifications(answer_valm)\n",
    "res"
   ]
  },
  {
   "cell_type": "code",
   "execution_count": 263,
   "id": "0aaa06d1-81de-43be-ac45-eb3c64f48e78",
   "metadata": {
    "tags": []
   },
   "outputs": [
    {
     "name": "stdout",
     "output_type": "stream",
     "text": [
      "[1, 0, 1, 2, 0, 1, 0, 1, 0, 0, 0, 0, 0, 1, 1, 1, 1, 0, 0, 1]\n"
     ]
    }
   ],
   "source": [
    "print(list(df_val[:n][\"label\"]))"
   ]
  },
  {
   "cell_type": "code",
   "execution_count": 244,
   "id": "7482dc0b-299c-47e9-96a6-6272e1c07050",
   "metadata": {
    "tags": []
   },
   "outputs": [
    {
     "name": "stdout",
     "output_type": "stream",
     "text": [
      "Accuracy: 50.00%\n"
     ]
    },
    {
     "data": {
      "text/plain": [
       "0.5"
      ]
     },
     "execution_count": 244,
     "metadata": {},
     "output_type": "execute_result"
    }
   ],
   "source": [
    "true_labels = df_val[:n][\"label\"].tolist()\n",
    "predicted_labels = res\n",
    "calculate_accuracy(true_labels, predicted_labels)"
   ]
  },
  {
   "cell_type": "code",
   "execution_count": 245,
   "id": "1e34e9a7-4279-4286-87a8-d2b2cd890f9b",
   "metadata": {},
   "outputs": [
    {
     "data": {
      "image/png": "[encoded data removed]",
      "text/plain": [
       "<Figure size 1000x800 with 2 Axes>"
      ]
     },
     "metadata": {},
     "output_type": "display_data"
    },
    {
     "name": "stdout",
     "output_type": "stream",
     "text": [
      "Accuracy: 50.00%\n",
      "F1-Score: 0.5938\n",
      "\n",
      "Detailed Classification Report:\n",
      "              precision    recall  f1-score   support\n",
      "\n",
      "           0       0.83      0.50      0.62        10\n",
      "           1       0.71      0.56      0.62         9\n",
      "           2       0.00      0.00      0.00         1\n",
      "           4       0.00      1.00      0.00         0\n",
      "\n",
      "    accuracy                           0.50        20\n",
      "   macro avg       0.39      0.51      0.31        20\n",
      "weighted avg       0.74      0.50      0.59        20\n",
      "\n"
     ]
    },
    {
     "data": {
      "text/plain": [
       "(0.5, 0.59375)"
      ]
     },
     "execution_count": 245,
     "metadata": {},
     "output_type": "execute_result"
    }
   ],
   "source": [
    "true_labels = df_val[:n][\"label\"].tolist()\n",
    "predicted_labels = res\n",
    "calculate_metrics(true_labels, predicted_labels)"
   ]
  },
  {
   "cell_type": "code",
   "execution_count": 246,
   "id": "867d0833-10ff-45d7-a100-abf1346a90b4",
   "metadata": {},
   "outputs": [
    {
     "name": "stdout",
     "output_type": "stream",
     "text": [
      "Added column 'pred' to existing file 'prediction_multi:02Jan2025_17:33:26.csv'.\n"
     ]
    }
   ],
   "source": [
    "save_predictions(answer_valm, f\"prediction_multi:{c_time}.csv\", \"pred\")"
   ]
  },
  {
   "cell_type": "code",
   "execution_count": 97,
   "id": "d788a3fc-765c-4221-958d-d078d8b11789",
   "metadata": {},
   "outputs": [],
   "source": [
    "prevOut = pd.read_csv(\"prediction_multi:02Jan2025_17:33:26.csv\")\n",
    "prev = prevOut[\"pred\"]"
   ]
  },
  {
   "cell_type": "code",
   "execution_count": null,
   "id": "66e3bd51-ee7f-4c8a-996f-e355d5f46b0a",
   "metadata": {},
   "outputs": [],
   "source": []
  }
 ],
 "metadata": {
  "kernelspec": {
   "display_name": "lang",
   "language": "python",
   "name": "python3"
  },
  "language_info": {
   "codemirror_mode": {
    "name": "ipython",
    "version": 3
   },
   "file_extension": ".py",
   "mimetype": "text/x-python",
   "name": "python",
   "nbconvert_exporter": "python",
   "pygments_lexer": "ipython3",
   "version": "3.13.0"
  }
 },
 "nbformat": 4,
 "nbformat_minor": 5
}
