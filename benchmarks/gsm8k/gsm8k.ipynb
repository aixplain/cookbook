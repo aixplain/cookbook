{
 "cells": [
  {
   "cell_type": "code",
   "execution_count": null,
   "id": "91fae46a",
   "metadata": {},
   "outputs": [],
   "source": [
    "import os\n",
    "os.environ[\"TEAM_API_KEY\"] = \"TEAM_API_KEY\""
   ]
  },
  {
   "cell_type": "code",
   "execution_count": null,
   "id": "42a314cf",
   "metadata": {},
   "outputs": [],
   "source": [
    "import re\n",
    "import json\n",
    "import time\n",
    "from datasets import load_dataset\n",
    "from aixplain.factories import ModelFactory, AgentFactory"
   ]
  },
  {
   "cell_type": "code",
   "execution_count": null,
   "id": "3dc67b80",
   "metadata": {},
   "outputs": [],
   "source": [
    "MODEL_ID = \"669a63646eb56306647e1091\"\n",
    "NUM_SAMPLES = 1319\n",
    "SAVE_DIR = \"results\"\n",
    "os.makedirs(SAVE_DIR, exist_ok=True)\n"
   ]
  },
  {
   "cell_type": "code",
   "execution_count": null,
   "id": "ffdb265f",
   "metadata": {},
   "outputs": [],
   "source": [
    "def extract_final_number(text):\n",
    "    if not text or not isinstance(text, str):\n",
    "        return None\n",
    "\n",
    "    # Remove all punctuation and symbols except digits and letters\n",
    "    cleaned_text = re.sub(r\"[^\\w\\s]\", \"\", text)  # removes punctuation like $, %, etc.\n",
    "    \n",
    "    # Remove all letters, keeping only digits and whitespace\n",
    "    digit_text = re.sub(r\"[a-zA-Z]\", \"\", cleaned_text)\n",
    "\n",
    "    # Find all numbers in the cleaned text\n",
    "    numbers = re.findall(r\"\\d+\", digit_text)\n",
    "    \n",
    "    return int(numbers[-1]) if numbers else None\n",
    "\n",
    "def extract_ground_truth(answer_text):\n",
    "    match = re.search(r\"####\\s*(-?\\d+)\", answer_text)\n",
    "    return match.group(1) if match else extract_final_number(answer_text)"
   ]
  },
  {
   "cell_type": "code",
   "execution_count": null,
   "id": "6db9f059",
   "metadata": {},
   "outputs": [],
   "source": [
    "# === LOAD DATA ===\n",
    "dataset = load_dataset(\"openai/gsm8k\", \"main\", split=\"test\")\n",
    "samples = dataset.select(range(NUM_SAMPLES))"
   ]
  },
  {
   "cell_type": "code",
   "execution_count": null,
   "id": "e46ab516",
   "metadata": {},
   "outputs": [],
   "source": [
    "# === LOAD MODEL + TOOLS ===\n",
    "model = ModelFactory.get(MODEL_ID)\n",
    "model_tool = AgentFactory.create_model_tool(\n",
    "    model=model,\n",
    "    description=\"You MUST use this tool to check the answer after the code tool.\"\n",
    ")\n",
    "code_tool = AgentFactory.create_python_interpreter_tool()\n",
    "\n",
    "agent = AgentFactory.create(\n",
    "    name=\"SingleAgent\",\n",
    "    description=\"Math agent for GSM8K, use the code tool initially, and use the llm tool to revise the answer.\",\n",
    "    instructions=\"You are an expert AI in solving complex math problems. Solve math problems and return only an integer.Make sure to use the python tool, when you use the python tool, the last line in the code MUST be a print() statement of the final answer.\",\n",
    "    llm_id=MODEL_ID,\n",
    "    tools=[model_tool,code_tool]\n",
    ")"
   ]
  },
  {
   "cell_type": "code",
   "execution_count": null,
   "id": "e31cd04e",
   "metadata": {},
   "outputs": [],
   "source": [
    "# === TRACKING ===\n",
    "total_cost = 0.0\n",
    "total_time = 0.0\n",
    "correct = 0"
   ]
  },
  {
   "cell_type": "code",
   "execution_count": null,
   "id": "ff176475",
   "metadata": {},
   "outputs": [],
   "source": [
    "PROMPT_TEMPLATE = \"\"\"\n",
    "    Return the answer as [ unit, final integer]. Example: 3 apples minus 1 = 2 apples.\\nQuestion: {question}\n",
    "        Make sure to use the python tool, when you use the python tool, the last line in the code MUST be a print() statement of the final answer.\n",
    "        You must output whatever final answer the tool gives, even if it is an error, garbage, or incomplete. DO NOT return code, only the final answer.\n",
    "        DO NOT use your internal knowledge to sovle the question, ONLY depend on tool output.\n",
    "    \"\"\""
   ]
  },
  {
   "cell_type": "code",
   "execution_count": null,
   "id": "c7d160b0",
   "metadata": {},
   "outputs": [],
   "source": [
    "# === PROCESS EACH SAMPLE ===\n",
    "for idx, sample in enumerate(samples):\n",
    "    question = sample[\"question\"]\n",
    "    gt_raw = sample[\"answer\"]\n",
    "    gt_answer = extract_ground_truth(gt_raw)\n",
    "    query = PROMPT_TEMPLATE.format(question=question)\n",
    "\n",
    "    start_time = time.time()\n",
    "    response = agent.run(query=query)\n",
    "    elapsed = time.time() - start_time\n",
    "\n",
    "    output = response.data.output if response else \"No response\"\n",
    "    pred_answer = extract_final_number(output)\n",
    "    is_correct = str(pred_answer) == str(gt_answer)\n",
    "\n",
    "    cost = response.used_credits if hasattr(response, 'used_credits') else 0\n",
    "    total_cost += cost\n",
    "    total_time += elapsed\n",
    "    correct += int(is_correct)\n",
    "\n",
    "    accuracy_so_far = correct / (idx + 1) * 100\n",
    "    avg_cost = total_cost / (idx + 1)\n",
    "    avg_time = total_time / (idx + 1)\n",
    "\n",
    "    result_data = {\n",
    "        \"index\": idx,\n",
    "        \"question\": question,\n",
    "        \"ground_truth\": gt_answer,\n",
    "        \"prediction\": pred_answer,\n",
    "        \"is_correct\": is_correct,\n",
    "        \"intermediate_steps\": [str(step) for step in response.data.intermediate_steps],\n",
    "        \"output\": output,\n",
    "        \"time\": elapsed,\n",
    "        \"cost\": cost,\n",
    "        \"accuracy_so_far\": accuracy_so_far,\n",
    "        \"avg_cost\": avg_cost,\n",
    "        \"avg_time\": avg_time\n",
    "    }\n",
    "\n",
    "    with open(os.path.join(SAVE_DIR, f\"sample_{idx + 1}.json\"), \"w\") as f:\n",
    "        json.dump(result_data, f, indent=2)"
   ]
  },
  {
   "cell_type": "code",
   "execution_count": null,
   "id": "a126c332",
   "metadata": {},
   "outputs": [],
   "source": [
    "# === FINAL SUMMARY ===\n",
    "final_accuracy = correct / NUM_SAMPLES * 100\n",
    "print(f\"\\nFinal Accuracy on {NUM_SAMPLES} GSM8K samples: {final_accuracy:.2f}%\")"
   ]
  },
  {
   "cell_type": "code",
   "execution_count": null,
   "id": "ed23a9b2",
   "metadata": {},
   "outputs": [],
   "source": []
  }
 ],
 "metadata": {
  "language_info": {
   "name": "python"
  }
 },
 "nbformat": 4,
 "nbformat_minor": 5
}
