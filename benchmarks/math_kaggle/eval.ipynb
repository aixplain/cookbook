{
 "cells": [
  {
   "cell_type": "code",
   "execution_count": null,
   "metadata": {},
   "outputs": [],
   "source": [
    "!unzip models/single_agent_llama/results.zip -d models/single_agent_llama/\n",
    "!unzip models/orchestrator_agent_llama/results.zip -d models/orchestrator_agent_llama/\n",
    "!unzip models/multi_agent_llama/results.zip -d models/multi_agent_llama/"
   ]
  },
  {
   "cell_type": "code",
   "execution_count": null,
   "metadata": {},
   "outputs": [],
   "source": [
    "import os\n",
    "import json\n",
    "\n",
    "os.environ[\"TEAM_API_KEY\"] = \"\"\n",
    "os.environ[\"SERPAPI_API_KEY\"] = \"\"\n",
    "\n",
    "from aixplain.factories import ModelFactory\n",
    "\n",
    "PROMPT = (\n",
    "    \"As a math expert, you will be provided with three items: a #Question#, an #Answer#, and the #Ground Truth#. \" +\n",
    "    \"Your task is to determine whether the #Answer# matches the #Ground Truth#. \" +\n",
    "    \"You need to considering mathmetical theorems when verifing the answer. \" +\n",
    "    \"For example, '$(c + 9)(c - 4)$' and '(c - 4)*(c + 9)' should be the same expressions based on factorization theorems. \" +\n",
    "    \"If they align, respond with 'correct'. If they do not, respond with 'wrong'. \" +\n",
    "    \"Ensure that your #Response# is the final line and consists solely of the word 'correct' or 'wrong', without any additional commentary or explanation. \" +\n",
    "    \"\\n\\n#Question#:\\n{question}\\n\\n#Answer#:\\n{answer}\\n\\n#Ground Truth#:\\n{ground_truth}\\n\\n#Response#: \"\n",
    ")\n",
    "\n",
    "evaluator = ModelFactory.get(\"66b2708c6eb5635d1c71f611\")\n",
    "\n",
    "with open(\"data/math_standard_20240712.jsonl\") as f:\n",
    "    data = [json.loads(line) for line in f.readlines()]"
   ]
  },
  {
   "cell_type": "code",
   "execution_count": null,
   "metadata": {},
   "outputs": [],
   "source": [
    "for model in [\"single_agent_llama\", \"orchestrator_agent_llama\", \"multi_agent_llama\", \"multi_agent_llama_reflexion\"]:\n",
    "# for model in [\"single_agent_llama\"]:\n",
    "    y_pred ={}\n",
    "    for idx, row in enumerate(data):\n",
    "        real = row[\"gt_answer\"]\n",
    "        for i in range(1):\n",
    "            if str(i) not in y_pred:\n",
    "                y_pred[str(i)] = []\n",
    "            with open(f\"models/{model}/results/{idx}_{i}.json\") as f:\n",
    "                pred = json.load(f)[\"output\"].split(\"#ANSWER#:\")[-1]\n",
    "                \n",
    "            response = evaluator.run(PROMPT.format(question=row[\"raw_problem\"], answer=pred, ground_truth=real))\n",
    "            if response.status == \"SUCCESS\":\n",
    "                y_pred[str(i)].append(response.data.strip())\n",
    "            else:\n",
    "                y_pred[str(i)].append(\"error\")\n",
    "    \n",
    "    with open(f\"models/{model}/results.json\", \"w\") as f:\n",
    "        json.dump(y_pred, f)\n"
   ]
  },
  {
   "cell_type": "code",
   "execution_count": 12,
   "metadata": {},
   "outputs": [
    {
     "name": "stdout",
     "output_type": "stream",
     "text": [
      "Model single_agent_llama - Run 0 - Accuracy: 0.634\n",
      "----------\n"
     ]
    }
   ],
   "source": [
    "for model in [\"single_agent_llama\"]:\n",
    "    with open(f\"models/{model}/results.json\") as f:\n",
    "        y_pred = json.load(f)\n",
    "    for i in range(1):\n",
    "        accuracy = sum([1 if x == \"correct\" else 0 for x in y_pred[str(i)]]) / len(y_pred[str(i)])\n",
    "        print(f\"Model {model} - Run {i} - Accuracy: {accuracy}\")\n",
    "    print(10 * \"-\")"
   ]
  },
  {
   "cell_type": "code",
   "execution_count": null,
   "metadata": {},
   "outputs": [],
   "source": []
  }
 ],
 "metadata": {
  "kernelspec": {
   "display_name": "env",
   "language": "python",
   "name": "python3"
  },
  "language_info": {
   "codemirror_mode": {
    "name": "ipython",
    "version": 3
   },
   "file_extension": ".py",
   "mimetype": "text/x-python",
   "name": "python",
   "nbconvert_exporter": "python",
   "pygments_lexer": "ipython3",
   "version": "3.11.7"
  }
 },
 "nbformat": 4,
 "nbformat_minor": 2
}
