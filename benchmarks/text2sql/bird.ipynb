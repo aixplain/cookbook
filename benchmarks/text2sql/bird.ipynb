{
 "cells": [
  {
   "cell_type": "code",
   "execution_count": 1,
   "metadata": {},
   "outputs": [],
   "source": [
    "# %pip install aixplain nltk"
   ]
  },
  {
   "cell_type": "code",
   "execution_count": 2,
   "metadata": {},
   "outputs": [],
   "source": [
    "# Download dataset from: https://bird-bench.github.io/"
   ]
  },
  {
   "cell_type": "code",
   "execution_count": null,
   "metadata": {},
   "outputs": [],
   "source": [
    "import os\n",
    "import json\n",
    "os.environ[\"TEAM_API_KEY\"] = \"\"\n",
    "from aixplain.factories import IndexFactory\n",
    "from utilities import *"
   ]
  },
  {
   "cell_type": "code",
   "execution_count": null,
   "metadata": {},
   "outputs": [],
   "source": [
    "dataset_name = \"bird\"\n",
    "schema_dir =  \"experiments\"\n",
    "dataset_dir = \"\" # The directory where the dataset is stored\n",
    "file_path = os.path.join(dataset_dir, dataset_name, \"train/train.json\")"
   ]
  },
  {
   "cell_type": "code",
   "execution_count": 3,
   "metadata": {},
   "outputs": [
    {
     "name": "stdout",
     "output_type": "stream",
     "text": [
      "Generated 9428 chunks\n"
     ]
    },
    {
     "data": {
      "text/plain": [
       "{'value': 'Question: Name movie titles released in year 1945. Sort the listing by the descending order of movie popularity. ; \\nSQL: SELECT movie_title FROM movies WHERE movie_release_year = 1945 ORDER BY movie_popularity DESC LIMIT 1',\n",
       " 'value_type': <DataType.TEXT: 'text'>,\n",
       " 'id': '80e43782-a5f8-4082-acf6-2ccbef4a0d18',\n",
       " 'uri': '',\n",
       " 'attributes': {'Database Id': 'movie_platform',\n",
       "  'Evidence': 'released in the year 1945 refers to movie_release_year = 1945;'}}"
      ]
     },
     "execution_count": 3,
     "metadata": {},
     "output_type": "execute_result"
    }
   ],
   "source": [
    "chunked_records = process_train_data(file_path)\n",
    "print(f\"Generated {len(chunked_records)} chunks\")\n",
    "chunked_records[0].__dict__"
   ]
  },
  {
   "cell_type": "code",
   "execution_count": null,
   "metadata": {},
   "outputs": [],
   "source": [
    "# Create Index\n",
    "index_model = IndexFactory.create(name=\"Index: Spider train set\", description=\"The bird train set for text2sql indexing for retrieval\")\n",
    "for batch_idx in range(0, len(chunked_records), 20):\n",
    "    try:\n",
    "        index_model.upsert(chunked_records[batch_idx:batch_idx+20])\n",
    "    except:\n",
    "        print(f\"Error on batch {batch_idx}\")"
   ]
  },
  {
   "cell_type": "code",
   "execution_count": 8,
   "metadata": {},
   "outputs": [],
   "source": [
    "question_list, db_path_list, knowledge_list, output = decouple_question_schema(dataset_dir, dataset_name)"
   ]
  },
  {
   "cell_type": "code",
   "execution_count": 9,
   "metadata": {},
   "outputs": [
    {
     "name": "stdout",
     "output_type": "stream",
     "text": [
      "Total Selected Questions (100): 100\n"
     ]
    }
   ],
   "source": [
    "selected_questions_100 = select_fixed_total_samples(output, total_samples=100)\n",
    "\n",
    "with open(f\"selected_{dataset_name}_questions_100.json\", \"w\", encoding=\"utf-8\") as file:\n",
    "    json.dump(selected_questions_100, file, indent=4)\n",
    "\n",
    "print(f\"Total Selected Questions (100): {len(selected_questions_100)}\")"
   ]
  },
  {
   "cell_type": "code",
   "execution_count": 10,
   "metadata": {},
   "outputs": [
    {
     "name": "stdout",
     "output_type": "stream",
     "text": [
      "Question: What is the monthly average number of schools that opened in Alameda County under the jurisdiction of the Elementary School District in 1980?\n"
     ]
    }
   ],
   "source": [
    "question = selected_questions_100[0]['question'] \n",
    "print(f\"Question: {question}\")"
   ]
  },
  {
   "cell_type": "code",
   "execution_count": null,
   "metadata": {},
   "outputs": [],
   "source": [
    "index_model = '6825dfc1865b56001de2a955' #or index_model.id\n",
    "example_docs = retrieve_docs(question, index_model, 5)  \n",
    "print(example_docs)"
   ]
  },
  {
   "cell_type": "code",
   "execution_count": 12,
   "metadata": {},
   "outputs": [],
   "source": [
    "ROLE = \"\"\"You are an expert SQL generation agent tasked with constructing accurate, efficient, and syntactically correct SQLite queries in response to user queries. It's crucial that your queries strictly adhere to the provided database schema, are optimized for performance, and are error-free in execution.\n",
    "\n",
    "### **Guidelines for Query Generation:**\n",
    "1. **Database Schema Verification**:\n",
    "   - Do not use the name provided by the question, rather check the schema to use the correct table/column names.\n",
    "   - Only utilize tables and columns that are verified to exist within the provided database schema.\n",
    "   - Double-check the presence of specified tables and columns before formulating your query.\n",
    "\n",
    "2. **Accurate Reference**:\n",
    "   - Accurately copy the exact names of tables and columns from the schema. Ensure the proper casing and avoid modifications like pluralization.\n",
    "   - Enclose column names containing spaces in backticks (e.g., `column name`).\n",
    "\n",
    "3. **Optimized Query Structure**:\n",
    "   - Start all queries with `SELECT` and use subqueries, `JOIN`s, and `GROUP BY` as necessary to craft precise responses.\n",
    "   - Efficiently use `WHERE`, `ORDER BY`, and `LIMIT` to streamline query performance.\n",
    "\n",
    "4. **SQL Query Output**:\n",
    "   - Return only the SQL query. Refrain from including any additional explanations or comments.\n",
    "   - If a query is infeasible given the schema, suggest the closest valid alternative.\n",
    "\n",
    "**Output Format**:\n",
    " - Your response must begin with `SELECT`.\n",
    "\"\"\"\n",
    "\n",
    "TEAM_ROLE = \"\"\"As a team of SQL experts, your primary mission is to develop queries that are not only precise and efficient but also strictly adhere to the database schema. Each SQL command must retrieve correct data and comply fully with SQLite syntax.\n",
    "\n",
    "### **Responsibilities**:\n",
    "- **Schema Adherence**: Confirm the existence and correctness of table and column names as per the database schema before query execution.\n",
    "- **Optimization and Syntax Correctness**: Ensure queries are optimized and syntactically correct without any SQL errors.\n",
    "\n",
    "### **Guidelines for Query Generation**:\n",
    "1. **Schema Verification**:\n",
    "   - Construct queries using only confirmed tables and columns.\n",
    "   - Be vigilant about the accuracy and casing of table and column names as documented.\n",
    "\n",
    "2. **Query Construction**:\n",
    "   - Ensure each query starts with `SELECT`.\n",
    "   - Utilize `JOIN`s, `GROUP BY`, and necessary filters to ensure accuracy and efficiency.\n",
    "\n",
    "3. **Output Specifications**:\n",
    "   - Provide only the SQL query, without commentary or additional context.\n",
    "   - Adhere strictly to the schema's naming conventions.\n",
    "\n",
    "**Output Format**:\n",
    "- Begin all responses with `SELECT`.\n",
    "\"\"\"\n",
    "exe = \"\"\" - **SQL Execution Tool**: You can run queries to ensure correctness before providing the final SQL statement.\"\"\"\n",
    "\n",
    "\n",
    "PROMPT = \"\"\"You are tasked with creating a valid SQL command that accurately answers the user's query, strictly using the provided database schema.\n",
    "\n",
    "### **Guidelines**:\n",
    "- **Schema Verification**: Confirm that all referenced tables and columns exist and are used correctly.\n",
    "\n",
    "- **Query Formatting**:\n",
    "   - Use backticks for column names with spaces.\n",
    "   - Start your query with `SELECT` and ensure it includes necessary subqueries and joins.\n",
    "\n",
    "- **Best Practices**:\n",
    "   - Adhere to SQL best practices for clarity and efficiency.\n",
    "   - Ensure all column and table names are copied exactly as they appear in the schema.\n",
    "{knowledge}\n",
    "{example}\n",
    "**Output Format**:\n",
    "- Your response must begin with `SELECT`.\n",
    "\n",
    "**Question**:\n",
    "{query}\n",
    "\n",
    "**SQL**:\n",
    "\"\"\""
   ]
  },
  {
   "cell_type": "code",
   "execution_count": 13,
   "metadata": {},
   "outputs": [],
   "source": [
    "configuration = \"single_agent\" \n",
    "output_dir = f\"experiments/text2sql_{dataset_name}_{configuration}\"\n",
    "os.makedirs(output_dir, exist_ok=True)"
   ]
  },
  {
   "cell_type": "code",
   "execution_count": null,
   "metadata": {},
   "outputs": [],
   "source": [
    "LLM_ID = \"67fd9ddfef0365783d06e2ef\" #GPT4.1 mini\n",
    "\n",
    "responses = []\n",
    "used_credits = 0\n",
    "start, end = 0, 10 #change 1 to the number of samples you want to run\n",
    "\n",
    "\n",
    "for i, query in enumerate(selected_questions_100[start:end], start=start):\n",
    "    entry = selected_questions_100[i]\n",
    "    \n",
    "    # Create individual agents\n",
    "    text2sql_agent = create_agent(\n",
    "        name=\"Text2SQL Agent\",\n",
    "        description=ROLE,\n",
    "        assets=[create_sql_tool(entry)],\n",
    "        llm_id=LLM_ID\n",
    "    )\n",
    "\n",
    "    sql_execution_agent = create_agent(\n",
    "        name=\"SQL Execution Agent\",\n",
    "        description=\"Your role is to execute the generated SQL commands and return their outputs. Ensure proper handling of query results and errors.\",\n",
    "        assets=[create_python_tool()],\n",
    "        llm_id=LLM_ID\n",
    "    )\n",
    "\n",
    "    sql_exe = \"\"\n",
    " \n",
    "    team_agent = create_team_agent([text2sql_agent], TEAM_ROLE, sql_exe, LLM_ID)\n",
    "\n",
    "    basename = entry['db_id'].replace('_', ' ')\n",
    "    example = retrieve_docs(query['question'], index_model, 3)\n",
    "    x=selected_questions_100[i]['question_id']\n",
    "    prompt = PROMPT.format(\n",
    "        basename=basename,\n",
    "        knowledge=f\"**External Knowledge to help you answer the question:** {knowledge_list[x]}\\n\",\n",
    "        example= f\"Examples:\\n{example}\\n\",\n",
    "        query=query['question'],\n",
    "    )\n",
    "\n",
    "    plan_inspector = True\n",
    "    response = execute_query(prompt, text2sql_agent, team_agent, configuration, plan_inspector)\n",
    "    used_credits += response.used_credits\n",
    "\n",
    "    responses.append(response.data.output)\n",
    "    # print(response.data.output)\n",
    "\n",
    "    response_dir = os.path.join(output_dir, \"results\")\n",
    "    os.makedirs(response_dir, exist_ok=True)\n",
    "    response_path = os.path.join(response_dir, f\"sample_response_{i}.json\")\n",
    "\n",
    "    safe_dump_response_step(response, response_path)\n"
   ]
  },
  {
   "cell_type": "code",
   "execution_count": 22,
   "metadata": {},
   "outputs": [
    {
     "name": "stdout",
     "output_type": "stream",
     "text": [
      "Execution completed. Total used credits: 0.22101500000000004\n",
      "0. What is the monthly average number of schools that opened in Alameda County under the jurisdiction of the Elementary School District in 1980?\n",
      "    SELECT COUNT(*) / 12 AS monthly_average FROM schools WHERE County = 'Alameda' AND DOC = '52' AND strftime('%Y', OpenDate) = '1980';\n",
      "\n",
      "1. Between 1/1/2000 to 12/31/2005, how many directly funded schools opened in the county of Stanislaus?\n",
      "    SELECT COUNT(*) FROM schools WHERE `FundingType` = 'Directly Funded' AND `County` = 'Stanislaus' AND `OpenDate` BETWEEN '2000-01-01' AND '2005-12-31';\n",
      "\n",
      "2. Which schools served a grade span of Kindergarten to 9th grade in the county of Los Angeles and what is its Percent (%) Eligible FRPM (Ages 5-17)?\n",
      "    SELECT `School Name`, `Percent (%) Eligible FRPM (Ages 5-17)` FROM frpm WHERE `County Name` = 'Los Angeles' AND `Low Grade` = 'K' AND `High Grade` = '9';\n",
      "\n",
      "3. What is the average writing score of each of the schools managed by Ricci Ulrich? List the schools and the corresponding average writing scores.\n",
      "    SELECT s.School, ss.AvgScrWrite FROM schools s JOIN satscores ss ON s.CDSCode = ss.cds WHERE s.AdmFName1 = 'Ricci' AND s.AdmLName1 = 'Ulrich';\n",
      "\n",
      "4. What is the Percent (%) Eligible Free (K-12) in the school administered by an administrator whose first name is Alusine. List the district code of the school.\n",
      "    The Percent (%) Eligible Free (K-12) in the school administered by an administrator whose first name is Alusine is approximately 70.15%, and the district code of the school is 64857.\n",
      "\n",
      "5. What is the total number of schools whose total SAT scores are greater or equal to 1500 whose mailing city is Lakeport?\n",
      "    SELECT COUNT(DISTINCT s.cds) FROM satscores AS s INNER JOIN schools AS sc ON s.cds = sc.CDSCode WHERE (s.AvgScrRead + s.AvgScrMath + s.AvgScrWrite) >= 1500 AND sc.MailCity = 'Lakeport';\n",
      "\n",
      "6. Please specify all of the schools and their related mailing zip codes that are under Avetik Atoian's administration.\n",
      "    SELECT `School`, `MailZip` FROM schools WHERE `AdmFName1` = 'Avetik' AND `AdmLName1` = 'Atoian';\n",
      "\n",
      "7. In which mailing street address can you find the school that has the lowest average score in reading? Also give the school's name.\n",
      "    The school with the lowest average reading score is located at the mailing street address '1111 Van Ness Avenue'. However, the school's name is not available in the data.\n",
      "\n",
      "8. Among the schools with the average score in Math over 560 in the SAT test, how many schools are directly charter-funded?\n",
      "    There are 2 schools with an average score in Math over 560 in the SAT test that are directly charter-funded.\n",
      "\n",
      "9. Please list the accounts whose district is Tabor that are eligible for loans.\n",
      "    SELECT account.account_id FROM account INNER JOIN disp ON account.account_id = disp.account_id INNER JOIN district ON account.district_id = district.district_id WHERE district.A2 = 'Tabor' AND disp.type = 'OWNER';\n",
      "\n",
      "Results successfully saved in experiments/text2sql_bird_single_agent\n"
     ]
    }
   ],
   "source": [
    "print(f\"Execution completed. Total used credits: {used_credits}\")\n",
    "process_and_save_results(responses, selected_questions_100, output_dir, start=0)"
   ]
  },
  {
   "cell_type": "code",
   "execution_count": 23,
   "metadata": {},
   "outputs": [
    {
     "name": "stdout",
     "output_type": "stream",
     "text": [
      "Incorrect Prediction 0: SELECT COUNT(*) / 12 AS monthly_average FROM schools WHERE County = 'Alameda' AND DOC = '52' AND strftime('%Y', OpenDate) = '1980'\n",
      "Incorrect Prediction 1: SELECT COUNT(*) FROM schools WHERE `FundingType` = 'Directly Funded' AND `County` = 'Stanislaus' AND `OpenDate` BETWEEN '2000-01-01' AND '2005-12-31'\n",
      "Incorrect Prediction 2: SELECT `School Name`, `Percent (%) Eligible FRPM (Ages 5-17)` FROM frpm WHERE `County Name` = 'Los Angeles' AND `Low Grade` = 'K' AND `High Grade` = '9'\n",
      "Error executing SQL: near \"The\": syntax error\n",
      "Incorrect Prediction 4: The Percent (%) Eligible Free (K-12) in the school administered by an administrator whose first name is Alusine is approximately 70.15%, and the district code of the school is 64857.\n",
      "Error executing SQL: near \"The\": syntax error\n",
      "Incorrect Prediction 7: The school with the lowest average reading score is located at the mailing street address '1111 Van Ness Avenue'. However, the school's name is not available in the data.\n",
      "Error executing SQL: near \"There\": syntax error\n",
      "Incorrect Prediction 8: There are 2 schools with an average score in Math over 560 in the SAT test that are directly charter-funded.\n",
      "Accuracy by Difficulty: {'moderate': '40.00% of 5', 'simple': '40.00% of 5'}\n",
      "Final SQL Prediction Accuracy: 40.00%\n"
     ]
    },
    {
     "data": {
      "text/plain": [
       "({'moderate': '40.00% of 5', 'simple': '40.00% of 5'}, '40.00%')"
      ]
     },
     "execution_count": 23,
     "metadata": {},
     "output_type": "execute_result"
    }
   ],
   "source": [
    "evaluate_predictions(output_dir, start=start, end=end)"
   ]
  }
 ],
 "metadata": {
  "kernelspec": {
   "display_name": "lang",
   "language": "python",
   "name": "python3"
  },
  "language_info": {
   "codemirror_mode": {
    "name": "ipython",
    "version": 3
   },
   "file_extension": ".py",
   "mimetype": "text/x-python",
   "name": "python",
   "nbconvert_exporter": "python",
   "pygments_lexer": "ipython3",
   "version": "3.13.2"
  }
 },
 "nbformat": 4,
 "nbformat_minor": 2
}
