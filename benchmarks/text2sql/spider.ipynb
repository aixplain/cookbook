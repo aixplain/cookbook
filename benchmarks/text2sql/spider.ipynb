{
 "cells": [
  {
   "cell_type": "code",
   "execution_count": null,
   "metadata": {},
   "outputs": [],
   "source": [
    "# Download dataset from: https://yale-lily.github.io/spider"
   ]
  },
  {
   "cell_type": "code",
   "execution_count": null,
   "metadata": {},
   "outputs": [],
   "source": [
    "# %pip install aixplain nltk"
   ]
  },
  {
   "cell_type": "code",
   "execution_count": null,
   "metadata": {},
   "outputs": [],
   "source": [
    "import os\n",
    "import json\n",
    "os.environ[\"TEAM_API_KEY\"] = \"\"\n",
    "from aixplain.factories import IndexFactory\n",
    "from utilities import *"
   ]
  },
  {
   "cell_type": "code",
   "execution_count": null,
   "metadata": {},
   "outputs": [],
   "source": [
    "dataset_name = \"spider\"\n",
    "schema_dir =  \"experiments\"\n",
    "dataset_dir = \"\" # The directory where the dataset is stored\n",
    "file_path = os.path.join(dataset_dir, dataset_name, \"train_combined.json\")"
   ]
  },
  {
   "cell_type": "code",
   "execution_count": 3,
   "metadata": {},
   "outputs": [
    {
     "name": "stdout",
     "output_type": "stream",
     "text": [
      "Generated 8651 chunks\n"
     ]
    },
    {
     "data": {
      "text/plain": [
       "{'value': 'Question: what is the biggest city in wyoming; \\nSQL: SELECT city_name FROM city WHERE population  =  ( SELECT MAX ( population ) FROM city WHERE state_name  =  \"wyoming\" ) AND state_name  =  \"wyoming\";',\n",
       " 'value_type': <DataType.TEXT: 'text'>,\n",
       " 'id': '33460b7d-1273-40e0-bd1b-805f27bfa09c',\n",
       " 'uri': '',\n",
       " 'attributes': {'Database Id': 'geo', 'Evidence': ''}}"
      ]
     },
     "execution_count": 3,
     "metadata": {},
     "output_type": "execute_result"
    }
   ],
   "source": [
    "chunked_records = process_train_data(file_path)\n",
    "print(f\"Generated {len(chunked_records)} chunks\")\n",
    "chunked_records[0].__dict__"
   ]
  },
  {
   "cell_type": "code",
   "execution_count": null,
   "metadata": {},
   "outputs": [],
   "source": [
    "# Create Index\n",
    "index_model = IndexFactory.create(name=\"Index: Spider train set\", description=\"The spider train set for text2sql indexing for retrieval\")\n",
    "for batch_idx in range(0, len(chunked_records), 20):\n",
    "    try:\n",
    "        index_model.upsert(chunked_records[batch_idx:batch_idx+20])\n",
    "    except:\n",
    "        print(f\"Error on batch {batch_idx}\")"
   ]
  },
  {
   "cell_type": "code",
   "execution_count": 5,
   "metadata": {},
   "outputs": [],
   "source": [
    "question_list, db_path_list, knowledge_list, output = decouple_question_schema(dataset_dir, dataset_name)"
   ]
  },
  {
   "cell_type": "code",
   "execution_count": 6,
   "metadata": {},
   "outputs": [
    {
     "name": "stdout",
     "output_type": "stream",
     "text": [
      "Total Selected Questions (100): 100\n"
     ]
    }
   ],
   "source": [
    "selected_questions_100 = select_fixed_total_samples(output, total_samples=100)\n",
    "\n",
    "with open(f\"selected_{dataset_name}_questions_100.json\", \"w\", encoding=\"utf-8\") as file:\n",
    "    json.dump(selected_questions_100, file, indent=4)\n",
    "\n",
    "print(f\"Total Selected Questions (100): {len(selected_questions_100)}\")"
   ]
  },
  {
   "cell_type": "code",
   "execution_count": 7,
   "metadata": {},
   "outputs": [
    {
     "name": "stdout",
     "output_type": "stream",
     "text": [
      "Question: Show the stadium name and capacity with most number of concerts in year 2014 or after.\n"
     ]
    }
   ],
   "source": [
    "question = selected_questions_100[0]['question'] \n",
    "print(f\"Question: {question}\")"
   ]
  },
  {
   "cell_type": "code",
   "execution_count": null,
   "metadata": {},
   "outputs": [],
   "source": [
    "index_model = '6826051f6cb8fb001df525d0' #or index_model.id\n",
    "example_docs = retrieve_docs(question, index_model, 5)  \n",
    "print(example_docs)"
   ]
  },
  {
   "cell_type": "code",
   "execution_count": 10,
   "metadata": {},
   "outputs": [],
   "source": [
    "ROLE = \"\"\"You are an expert SQL generation agent tasked with constructing accurate, efficient, and syntactically correct SQLite queries in response to user queries. It's crucial that your queries strictly adhere to the provided database schema, are optimized for performance, and are error-free in execution.\n",
    "\n",
    "### **Guidelines for Query Generation:**\n",
    "1. **Database Schema Verification**:\n",
    "   - Do not use the name provided by the question, rather check the schema to use the correct table/column names.\n",
    "   - Only utilize tables and columns that are verified to exist within the provided database schema.\n",
    "   - Double-check the presence of specified tables and columns before formulating your query.\n",
    "\n",
    "2. **Accurate Reference**:\n",
    "   - Accurately copy the exact names of tables and columns from the schema. Ensure the proper casing and avoid modifications like pluralization.\n",
    "   - Enclose column names containing spaces in backticks (e.g., `column name`).\n",
    "\n",
    "3. **Optimized Query Structure**:\n",
    "   - Start all queries with `SELECT` and use subqueries, `JOIN`s, and `GROUP BY` as necessary to craft precise responses.\n",
    "   - Efficiently use `WHERE`, `ORDER BY`, and `LIMIT` to streamline query performance.\n",
    "\n",
    "4. **SQL Query Output**:\n",
    "   - Return only the SQL query. Refrain from including any additional explanations or comments.\n",
    "   - If a query is infeasible given the schema, suggest the closest valid alternative.\n",
    "\n",
    "**Output Format**:\n",
    " - Your response must begin with `SELECT`.\n",
    "\"\"\"\n",
    "\n",
    "TEAM_ROLE = \"\"\"As a team of SQL experts, your primary mission is to develop queries that are not only precise and efficient but also strictly adhere to the database schema. Each SQL command must retrieve correct data and comply fully with SQLite syntax.\n",
    "\n",
    "### **Responsibilities**:\n",
    "- **Schema Adherence**: Confirm the existence and correctness of table and column names as per the database schema before query execution.\n",
    "- **Optimization and Syntax Correctness**: Ensure queries are optimized and syntactically correct without any SQL errors.\n",
    "\n",
    "### **Guidelines for Query Generation**:\n",
    "1. **Schema Verification**:\n",
    "   - Construct queries using only confirmed tables and columns.\n",
    "   - Be vigilant about the accuracy and casing of table and column names as documented.\n",
    "\n",
    "2. **Query Construction**:\n",
    "   - Ensure each query starts with `SELECT`.\n",
    "   - Utilize `JOIN`s, `GROUP BY`, and necessary filters to ensure accuracy and efficiency.\n",
    "\n",
    "3. **Output Specifications**:\n",
    "   - Provide only the SQL query, without commentary or additional context.\n",
    "   - Adhere strictly to the schema's naming conventions.\n",
    "\n",
    "**Output Format**:\n",
    "- Begin all responses with `SELECT`.\n",
    "\"\"\"\n",
    "exe = \"\"\" - **SQL Execution Tool**: You can run queries to ensure correctness before providing the final SQL statement.\"\"\"\n",
    "\n",
    "\n",
    "PROMPT = \"\"\"You are tasked with creating a valid SQL command that accurately answers the user's query, strictly using the provided database schema.\n",
    "\n",
    "### **Guidelines**:\n",
    "- **Schema Verification**: Confirm that all referenced tables and columns exist and are used correctly.\n",
    "\n",
    "- **Query Formatting**:\n",
    "   - Use backticks for column names with spaces.\n",
    "   - Start your query with `SELECT` and ensure it includes necessary subqueries and joins.\n",
    "\n",
    "- **Best Practices**:\n",
    "   - Adhere to SQL best practices for clarity and efficiency.\n",
    "   - Ensure all column and table names are copied exactly as they appear in the schema.\n",
    "{knowledge}\n",
    "{example}\n",
    "**Output Format**:\n",
    "- Your response must begin with `SELECT`.\n",
    "\n",
    "**Question**:\n",
    "{query}\n",
    "\n",
    "**SQL**:\n",
    "\"\"\""
   ]
  },
  {
   "cell_type": "code",
   "execution_count": 11,
   "metadata": {},
   "outputs": [],
   "source": [
    "configuration = \"single_agent\"\n",
    "output_dir = f\"experiments/text2sql_{dataset_name}_{configuration}\"\n",
    "os.makedirs(output_dir, exist_ok=True)"
   ]
  },
  {
   "cell_type": "code",
   "execution_count": null,
   "metadata": {},
   "outputs": [],
   "source": [
    "LLM_ID = \"67fd9ddfef0365783d06e2ef\" #GPT4.1 mini\n",
    "\n",
    "responses = []\n",
    "used_credits = 0\n",
    "start, end = 0, 10 #change 1 to the number of samples you want to run\n",
    "\n",
    "\n",
    "for i, query in enumerate(selected_questions_100[start:end], start=start):\n",
    "    entry = selected_questions_100[i]\n",
    "    \n",
    "    text2sql_agent = create_agent(\n",
    "        name=\"Text2SQL Agent\",\n",
    "        description=ROLE,\n",
    "        assets=[create_sql_tool(entry), create_python_tool()],\n",
    "        llm_id=LLM_ID\n",
    "    )\n",
    "\n",
    "    sql_execution_agent = create_agent(\n",
    "        name=\"SQL Execution Agent\",\n",
    "        description=\"Your role is to execute the generated SQL commands and return their outputs. Ensure proper handling of query results and errors.\",\n",
    "        assets=[create_python_tool()],\n",
    "        llm_id=LLM_ID\n",
    "    )\n",
    "\n",
    "    sql_exe = \"\" \n",
    "    team_agent = create_team_agent([text2sql_agent], TEAM_ROLE, sql_exe, LLM_ID)\n",
    "\n",
    "    basename = entry['db_id'].replace('_', ' ')\n",
    "    example = retrieve_docs(query['question'], index_model, 3)\n",
    "    prompt = PROMPT.format(\n",
    "        basename=basename,\n",
    "        knowledge='',\n",
    "        example= f\"Examples:\\n{example}\\n\",\n",
    "        query=query['question'],\n",
    "    )\n",
    "\n",
    "    plan_inspector = True\n",
    "    response = execute_query(prompt, text2sql_agent, team_agent, configuration, plan_inspector)\n",
    "    used_credits += response.used_credits\n",
    "\n",
    "    responses.append(response.data.output)\n",
    "    print(response.data.output)\n",
    "\n",
    "    response_dir = os.path.join(output_dir, \"results\")\n",
    "    os.makedirs(response_dir, exist_ok=True)\n",
    "    response_path = os.path.join(response_dir, f\"sample_response_{i}.json\")\n",
    "\n",
    "    safe_dump_response_step(response, response_path)"
   ]
  },
  {
   "cell_type": "code",
   "execution_count": 13,
   "metadata": {},
   "outputs": [
    {
     "name": "stdout",
     "output_type": "stream",
     "text": [
      "Execution completed. Total used credits: 0.084275\n",
      "0. Show the stadium name and capacity with most number of concerts in year 2014 or after.\n",
      "    SELECT s.Name, s.Capacity FROM stadium s JOIN concert c ON s.Stadium_ID = c.Stadium_ID WHERE c.Year >= '2014' GROUP BY s.Stadium_ID ORDER BY COUNT(c.concert_ID) DESC LIMIT 1\n",
      "\n",
      "1. What is the average and maximum capacities for all stadiums ?\n",
      "    SELECT AVG(Capacity) AS average_capacity, MAX(Capacity) AS maximum_capacity FROM stadium;\n",
      "\n",
      "2. What is the maximum capacity and the average of all stadiums ?\n",
      "    SELECT MAX(Capacity), AVG(Capacity) FROM stadium\n",
      "\n",
      "3. Show the name and the release year of the song by the youngest singer.\n",
      "    SELECT Name, Song_release_year FROM singer ORDER BY Age ASC LIMIT 1\n",
      "\n",
      "4. Show the name and theme for all concerts and the number of singers in each concert.\n",
      "    SELECT concert.concert_Name, concert.Theme, COUNT(singer_in_concert.Singer_ID) AS number_of_singers FROM concert JOIN singer_in_concert ON concert.concert_ID = singer_in_concert.concert_ID GROUP BY concert.concert_ID\n",
      "\n",
      "5. List the maximum weight and type for each type of pet.\n",
      "    SELECT PetType, MAX(weight) FROM Pets GROUP BY PetType\n",
      "\n",
      "6. Find the id of the pet owned by student whose last name is ‘Smith’.\n",
      "    SELECT H.PetID FROM Has_Pet AS H JOIN Student AS S ON H.StuID = S.StuID WHERE S.LName = 'Smith';\n",
      "\n",
      "7. How many different types of pet are there?\n",
      "    SELECT count(DISTINCT PetType) FROM Pets\n",
      "\n",
      "8. Find the first name of students who have both cat and dog pets .\n",
      "    SELECT Fname FROM Student WHERE StuID IN (SELECT StuID FROM Has_Pet WHERE PetID IN (SELECT PetID FROM Pets WHERE PetType = 'Cat') INTERSECT SELECT StuID FROM Has_Pet WHERE PetID IN (SELECT PetID FROM Pets WHERE PetType = 'Dog'))\n",
      "\n",
      "9. What type of pet is the youngest animal, and how much does it weigh?\n",
      "    SELECT PetType, weight FROM Pets ORDER BY pet_age ASC LIMIT 1\n",
      "\n",
      "Results successfully saved in experiments/text2sql_spider_single_agent\n"
     ]
    }
   ],
   "source": [
    "print(f\"Execution completed. Total used credits: {used_credits}\")\n",
    "process_and_save_results(responses, selected_questions_100, output_dir, start=0)"
   ]
  },
  {
   "cell_type": "code",
   "execution_count": 14,
   "metadata": {},
   "outputs": [
    {
     "name": "stdout",
     "output_type": "stream",
     "text": [
      "[('Somerset Park', 11998)] === [('Somerset Park', 11998)]\n",
      "[(10621.666666666666, 52500)] === [(10621.666666666666, 52500)]\n",
      "[(52500, 10621.666666666666)] === [(52500, 730)]\n",
      "Incorrect Prediction 2: SELECT MAX(Capacity), AVG(Capacity) FROM stadium\n",
      "[('Tribal King', '2016')] === [('Love', '2016')]\n",
      "Incorrect Prediction 3: SELECT Name, Song_release_year FROM singer ORDER BY Age ASC LIMIT 1\n",
      "[('Auditions', 'Free choice', 3), ('Super bootcamp', 'Free choice 2', 2), ('Home Visits', 'Bleeding Love', 1), ('Week 1', 'Wide Awake', 1), ('Week 1', 'Happy Tonight', 2), ('Week 2', 'Party All Night', 1)] === [('Auditions', 'Free choice', 3), ('Super bootcamp', 'Free choice 2', 2), ('Home Visits', 'Bleeding Love', 1), ('Week 1', 'Wide Awake', 1), ('Week 1', 'Happy Tonight', 2), ('Week 2', 'Party All Night', 1)]\n",
      "[('cat', 12.0), ('dog', 13.4)] === [(12.0, 'cat'), (13.4, 'dog')]\n",
      "Incorrect Prediction 5: SELECT PetType, MAX(weight) FROM Pets GROUP BY PetType\n",
      "[(2001,)] === [(2001,)]\n",
      "[(2,)] === [(2,)]\n",
      "[] === []\n",
      "[('dog', 9.3)] === [('dog', 9.3)]\n",
      "Final Accuracy: 70.00%\n"
     ]
    },
    {
     "data": {
      "text/plain": [
       "'70.00%'"
      ]
     },
     "execution_count": 14,
     "metadata": {},
     "output_type": "execute_result"
    }
   ],
   "source": [
    "evaluate_sql_predictions(output_dir, start=start, end=end)"
   ]
  }
 ],
 "metadata": {
  "kernelspec": {
   "display_name": "lang",
   "language": "python",
   "name": "python3"
  },
  "language_info": {
   "codemirror_mode": {
    "name": "ipython",
    "version": 3
   },
   "file_extension": ".py",
   "mimetype": "text/x-python",
   "name": "python",
   "nbconvert_exporter": "python",
   "pygments_lexer": "ipython3",
   "version": "3.13.2"
  }
 },
 "nbformat": 4,
 "nbformat_minor": 2
}
