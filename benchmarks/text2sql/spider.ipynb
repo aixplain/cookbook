{
 "cells": [
  {
   "cell_type": "code",
   "execution_count": null,
   "metadata": {},
   "outputs": [],
   "source": [
    "import os\n",
    "import json\n",
    "from uuid import uuid4\n",
    "from collections import defaultdict\n",
    "\n",
    "os.environ[\"TEAM_API_KEY\"] = \"\"\n",
    "\n",
    "from agentification.utilities.models import Agent, UtilityTool, UtilityToolType, TeamAgent, AgentExecuteInput, ModelTool, PipelineTool, SQLTool\n",
    "from agentification.team_agent import TeamAgentService, TeamAgentExecuteInput\n",
    "from agentification.agent import AgentService\n",
    "from aixplain.factories import ModelFactory\n",
    "from utilities import *"
   ]
  },
  {
   "cell_type": "code",
   "execution_count": null,
   "metadata": {},
   "outputs": [],
   "source": [
    "dataset_name = \"spider\"\n",
    "schema_dir =  \"experiments\"\n",
    "dataset_dir = \"text2sql\"\n",
    "lowercase = False\n",
    "model_id = '67d11177676955001d486419'"
   ]
  },
  {
   "cell_type": "code",
   "execution_count": null,
   "metadata": {},
   "outputs": [],
   "source": [
    "question_list, db_path_list, knowledge_list, output = decouple_question_schema(dataset_dir, dataset_name, lowercase)"
   ]
  },
  {
   "cell_type": "code",
   "execution_count": null,
   "metadata": {},
   "outputs": [],
   "source": [
    "selected_questions_100 = select_fixed_total_samples(output, total_samples=100)\n",
    "\n",
    "with open(f\"selected_{dataset_name}_questions_100.json\", \"w\", encoding=\"utf-8\") as file:\n",
    "    json.dump(selected_questions_100, file, indent=4)\n",
    "\n",
    "print(f\"Total Selected Questions (100): {len(selected_questions_100)}\")\n",
    "selected_questions_100[0]"
   ]
  },
  {
   "cell_type": "code",
   "execution_count": null,
   "metadata": {},
   "outputs": [],
   "source": [
    "ROLE = \"\"\"You are an expert SQL generation agent tasked with constructing accurate, efficient, and syntactically correct SQLite queries in response to user queries. It's crucial that your queries strictly adhere to the provided database schema, are optimized for performance, and are error-free in execution.\n",
    "\n",
    "### **Guidelines for Query Generation:**\n",
    "1. **Database Schema Verification**:\n",
    "   - Do not use the name provided by the question, rather check the schema to use the correct table/column names.\n",
    "   - Only utilize tables and columns that are verified to exist within the provided database schema.\n",
    "   - Double-check the presence of specified tables and columns before formulating your query.\n",
    "\n",
    "2. **Accurate Reference**:\n",
    "   - Accurately copy the exact names of tables and columns from the schema. Ensure the proper casing and avoid modifications like pluralization.\n",
    "   - Enclose column names containing spaces in backticks (e.g., `column name`).\n",
    "\n",
    "3. **Optimized Query Structure**:\n",
    "   - Start all queries with `SELECT` and use subqueries, `JOIN`s, and `GROUP BY` as necessary to craft precise responses.\n",
    "   - Efficiently use `WHERE`, `ORDER BY`, and `LIMIT` to streamline query performance.\n",
    "\n",
    "4. **SQL Query Output**:\n",
    "   - Return only the SQL query. Refrain from including any additional explanations or comments.\n",
    "   - If a query is infeasible given the schema, suggest the closest valid alternative.\n",
    "\n",
    "**Output Format**:\n",
    " - Your response must begin with `SELECT`.\n",
    "\"\"\"\n",
    "\n",
    "TEAM_ROLE = \"\"\"As a team of SQL experts, your primary mission is to develop queries that are not only precise and efficient but also strictly adhere to the database schema. Each SQL command must retrieve correct data and comply fully with SQLite syntax.\n",
    "\n",
    "### **Responsibilities**:\n",
    "- **Schema Adherence**: Confirm the existence and correctness of table and column names as per the database schema before query execution.\n",
    "- **Optimization and Syntax Correctness**: Ensure queries are optimized and syntactically correct without any SQL errors.\n",
    "\n",
    "### **Guidelines for Query Generation**:\n",
    "1. **Schema Verification**:\n",
    "   - Construct queries using only confirmed tables and columns.\n",
    "   - Be vigilant about the accuracy and casing of table and column names as documented.\n",
    "\n",
    "2. **Query Construction**:\n",
    "   - Ensure each query starts with `SELECT`.\n",
    "   - Utilize `JOIN`s, `GROUP BY`, and necessary filters to ensure accuracy and efficiency.\n",
    "\n",
    "3. **Output Specifications**:\n",
    "   - Provide only the SQL query, without commentary or additional context.\n",
    "   - Adhere strictly to the schema's naming conventions.\n",
    "\n",
    "**Output Format**:\n",
    "- Begin all responses with `SELECT`.\n",
    "\"\"\"\n",
    "exe = \"\"\" - **SQL Execution Tool**: You can run queries to ensure correctness before providing the final SQL statement.\"\"\"\n",
    "\n",
    "\n",
    "PROMPT = \"\"\"You are tasked with creating a valid SQL command that accurately answers the user's query, strictly using the provided database schema.\n",
    "\n",
    "### **Guidelines**:\n",
    "- **Schema Verification**: Confirm that all referenced tables and columns exist and are used correctly.\n",
    "\n",
    "- **Query Formatting**:\n",
    "   - Use backticks for column names with spaces.\n",
    "   - Start your query with `SELECT` and ensure it includes necessary subqueries and joins.\n",
    "\n",
    "- **Best Practices**:\n",
    "   - Adhere to SQL best practices for clarity and efficiency.\n",
    "   - Ensure all column and table names are copied exactly as they appear in the schema.\n",
    "{knowledge}\n",
    "{example}\n",
    "**Output Format**:\n",
    "- Your response must begin with `SELECT`.\n",
    "\n",
    "**Question**:\n",
    "{query}\n",
    "\n",
    "**SQL**:\n",
    "\"\"\""
   ]
  },
  {
   "cell_type": "code",
   "execution_count": null,
   "metadata": {},
   "outputs": [],
   "source": [
    "configuration = \"single_agent_claude3.5\"\n",
    "output_dir = f\"experiments/text2sql_{dataset_name}_{configuration}\"\n",
    "os.makedirs(output_dir, exist_ok=True)"
   ]
  },
  {
   "cell_type": "code",
   "execution_count": null,
   "metadata": {},
   "outputs": [],
   "source": [
    "LLM_ID = \"669a63646eb56306647e1091\" \n",
    "\n",
    "responses = []\n",
    "used_credits = 0\n",
    "start, end = 0, 100\n",
    "session_id = str(uuid4())\n",
    "\n",
    "for i, query in enumerate(selected_questions_100[start:end], start=start):\n",
    "    entry = selected_questions_100[i]\n",
    "    \n",
    "    text2sql_agent = create_agent(\n",
    "        name=\"Text2SQL Agent\",\n",
    "        description=ROLE,\n",
    "        assets=[create_sql_tool(entry), create_python_tool()],\n",
    "        llm_id=LLM_ID\n",
    "    )\n",
    "\n",
    "    sql_execution_agent = create_agent(\n",
    "        name=\"SQL Execution Agent\",\n",
    "        description=\"Your role is to execute the generated SQL commands and return their outputs. Ensure proper handling of query results and errors.\",\n",
    "        assets=[create_python_tool()],\n",
    "        llm_id=LLM_ID\n",
    "    )\n",
    "\n",
    "    sql_exe = \"\" \n",
    "    team_agent = create_team_agent([text2sql_agent], TEAM_ROLE, sql_exe, LLM_ID)\n",
    "\n",
    "    basename = entry['db_id'].replace('_', ' ')\n",
    "    example = retrieve_docs(query['question'], model_id, 3)\n",
    "    prompt = PROMPT.format(\n",
    "        basename=basename,\n",
    "        knowledge='',\n",
    "        example= f\"Examples:\\n{example}\\n\",\n",
    "        query=query['question'],\n",
    "    )\n",
    "\n",
    "    response = execute_query(prompt, text2sql_agent, team_agent, configuration, session_id, LLM_ID)\n",
    "    used_credits += response.usedCredits\n",
    "\n",
    "    responses.append(response.output)\n",
    "    print(response.output)\n",
    "\n",
    "    response_dir = os.path.join(output_dir, \"results\")\n",
    "    os.makedirs(response_dir, exist_ok=True)\n",
    "    response_path = os.path.join(response_dir, f\"sample_response_{i}.json\")\n",
    "\n",
    "    with open(response_path, \"w\") as f:\n",
    "        f.write(response.model_dump_json(indent=4))"
   ]
  },
  {
   "cell_type": "code",
   "execution_count": null,
   "metadata": {},
   "outputs": [],
   "source": [
    "print(f\"Execution completed. Total used credits: {used_credits}\")\n",
    "process_and_save_results(responses, selected_questions_100, output_dir, start=0)"
   ]
  },
  {
   "cell_type": "code",
   "execution_count": null,
   "metadata": {},
   "outputs": [],
   "source": [
    "evaluate_sql_predictions(output_dir, start=start, end=end)"
   ]
  }
 ],
 "metadata": {
  "kernelspec": {
   "display_name": "lang",
   "language": "python",
   "name": "python3"
  },
  "language_info": {
   "codemirror_mode": {
    "name": "ipython",
    "version": 3
   },
   "file_extension": ".py",
   "mimetype": "text/x-python",
   "name": "python",
   "nbconvert_exporter": "python",
   "pygments_lexer": "ipython3",
   "version": "3.13.2"
  }
 },
 "nbformat": 4,
 "nbformat_minor": 2
}
