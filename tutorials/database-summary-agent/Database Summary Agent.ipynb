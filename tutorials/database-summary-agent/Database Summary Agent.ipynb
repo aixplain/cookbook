{
  "cells": [
    {
      "cell_type": "markdown",
      "metadata": {
        "id": "bOnXiy1yaLPa"
      },
      "source": [
        "# Database Summary Agent Documentation\n",
        "## Agent Overview\n",
        "\n",
        "The Database Summary Agent is an automated system designed to connect Airtable and Google Docs to streamline database summarization and reporting. It retrieves structured data from Airtable bases, generates summaries of the information, and writes these summaries directly into Google Docs for recordkeeping or sharing.\n",
        "\n",
        "This agent reduces manual effort by integrating database retrieval with automated document generation, making it easy to create up-to-date summaries of key datasets.\n",
        "\n",
        "### Key Features:\n",
        "\n",
        "- **Airtable Integration**: Reads schema, retrieves records, and supports operations like creating, updating, or deleting records and fields.\n",
        "\n",
        "- **Google Docs Integration**: Creates and updates documents, inserts text, and enables content search and editing.\n",
        "\n",
        "- **Automated Summarization**: Summarizes Airtable database contents and writes human-readable insights into Google Docs.\n",
        "\n",
        "- **Customizable Instructions**: Designed to summarize specific bases and tables while outputting results to designated documents."
      ]
    },
    {
      "cell_type": "markdown",
      "metadata": {
        "id": "ZpXLG3BNaZqx"
      },
      "source": [
        "## Code Documentation\n",
        "\n",
        "### 1. Environment Setup and API Configuration\n",
        "\n",
        "Installs the aiXplain SDK and sets up the environment with the API key for secure authentication."
      ]
    },
    {
      "cell_type": "code",
      "execution_count": null,
      "metadata": {
        "colab": {
          "base_uri": "https://localhost:8080/"
        },
        "id": "_ssKUlYqL5jW",
        "outputId": "48578562-52a1-462f-c47e-d48b9e89a39d"
      },
      "outputs": [
        {
          "name": "stdout",
          "output_type": "stream",
          "text": [
            "\u001b[?25l   \u001b[90m━━━━━━━━━━━━━━━━━━━━━━━━━━━━━━━━━━━━━━━━\u001b[0m \u001b[32m0.0/488.0 kB\u001b[0m \u001b[31m?\u001b[0m eta \u001b[36m-:--:--\u001b[0m\r\u001b[2K   \u001b[90m━━━━━━━━━━━━━━━━━━━━━━━━━━━━━━━━━━━━━━━━\u001b[0m \u001b[32m488.0/488.0 kB\u001b[0m \u001b[31m15.1 MB/s\u001b[0m eta \u001b[36m0:00:00\u001b[0m\n",
            "\u001b[?25h\u001b[?25l   \u001b[90m━━━━━━━━━━━━━━━━━━━━━━━━━━━━━━━━━━━━━━━━\u001b[0m \u001b[32m0.0/44.7 kB\u001b[0m \u001b[31m?\u001b[0m eta \u001b[36m-:--:--\u001b[0m\r\u001b[2K   \u001b[90m━━━━━━━━━━━━━━━━━━━━━━━━━━━━━━━━━━━━━━━━\u001b[0m \u001b[32m44.7/44.7 kB\u001b[0m \u001b[31m3.9 MB/s\u001b[0m eta \u001b[36m0:00:00\u001b[0m\n",
            "\u001b[?25h\u001b[?25l   \u001b[90m━━━━━━━━━━━━━━━━━━━━━━━━━━━━━━━━━━━━━━━━\u001b[0m \u001b[32m0.0/50.9 kB\u001b[0m \u001b[31m?\u001b[0m eta \u001b[36m-:--:--\u001b[0m\r\u001b[2K   \u001b[90m━━━━━━━━━━━━━━━━━━━━━━━━━━━━━━━━━━━━━━━━\u001b[0m \u001b[32m50.9/50.9 kB\u001b[0m \u001b[31m4.3 MB/s\u001b[0m eta \u001b[36m0:00:00\u001b[0m\n",
            "\u001b[?25h"
          ]
        }
      ],
      "source": [
        "# Install aiXplain SDK\n",
        "!pip install -q aixplain\n",
        "\n",
        "# Set up environment variables for authentication\n",
        "import os\n",
        "os.environ[\"AIXPLAIN_API_KEY\"] = \"<YOUR_AIXPLAIN_API_KEY>\"\n",
        "\n",
        "# Import factories for agent, tool, and integration creation\n",
        "from aixplain.factories import AgentFactory, ToolFactory, IntegrationFactory\n"
      ]
    },
    {
      "cell_type": "markdown",
      "metadata": {
        "id": "70gj4auQandz"
      },
      "source": [
        "### 2. Airtable Tool Configuration\n",
        "\n",
        "Retrieves the Airtable integration tool from the aiXplain marketplace and scopes its actions to the operations required for database access and manipulation."
      ]
    },
    {
      "cell_type": "code",
      "execution_count": null,
      "metadata": {
        "id": "LY1oyZSupLJ8"
      },
      "outputs": [],
      "source": [
        "# Get Airtable tool from aiXplain marketplace\n",
        "airtable_tool = ToolFactory.get(\"<YOUR_AIRTABLE_COMPOSIO_INTEGRATION_ID>\") # Your Airtable tool from your dashboard\n",
        "\n",
        "# Define only the needed actions for Airtable operations\n",
        "needed_actions = {\n",
        "    \"AIRTABLE_CREATE_FIELD\",\n",
        "    \"AIRTABLE_CREATE_MULTIPLE_RECORDS\",\n",
        "    \"AIRTABLE_CREATE_TABLE\",\n",
        "    \"AIRTABLE_DELETE_RECORD\",\n",
        "    \"AIRTABLE_GET_BASE_SCHEMA\",\n",
        "    \"AIRTABLE_GET_RECORD\",\n",
        "    \"AIRTABLE_LIST_RECORDS\",\n",
        "    \"AIRTABLE_UPDATE_RECORD\",\n",
        "}\n",
        "\n",
        "# Limit Airtable tool scope to required actions only\n",
        "airtable_tool.action_scope = [a for a in airtable_tool.actions if a.code in needed_actions]\n",
        "\n",
        "# Validate tool scope\n",
        "len(airtable_tool.action_scope), [a.code for a in airtable_tool.action_scope]"
      ]
    },
    {
      "cell_type": "markdown",
      "metadata": {
        "id": "7SaVXBYxsTen"
      },
      "source": [
        "### 3. Google Docs Tool Configuration\n",
        "\n",
        "Retrieves the Google Docs integration tool and scopes it to actions required for creating, retrieving, and updating documents."
      ]
    },
    {
      "cell_type": "code",
      "execution_count": null,
      "metadata": {
        "id": "eV7W3QwQsUsE"
      },
      "outputs": [],
      "source": [
        "# Get Google Docs tool from aiXplain marketplace\n",
        "google_docs_tool = ToolFactory.get(\"<YOUR_GOOGLE_DOCS_COMPOSIO_INTEGRATION_ID>\") # Your Google Docs tool from your dashboard\n",
        "\n",
        "# Define the needed actions for document creation and editing\n",
        "needed_actions = {\n",
        "    \"GOOGLEDOCS_CREATE_DOCUMENT\",\n",
        "    \"GOOGLEDOCS_GET_DOCUMENT_BY_ID\",\n",
        "    \"GOOGLEDOCS_INSERT_TEXT_ACTION\",\n",
        "    \"GOOGLEDOCS_SEARCH_DOCUMENTS\",\n",
        "    \"GOOGLEDOCS_UPDATE_EXISTING_DOCUMENT\"\n",
        "}\n",
        "\n",
        "# Limit Google Docs tool scope to required actions only\n",
        "google_docs_tool.action_scope = [a for a in google_docs_tool.actions if a.code in needed_actions]\n",
        "\n",
        "# Validate tool scope\n",
        "len(google_docs_tool.action_scope), [a.code for a in google_docs_tool.action_scope]\n"
      ]
    },
    {
      "cell_type": "markdown",
      "metadata": {
        "id": "56LLeiy_03JC"
      },
      "source": [
        "### 4. Agent Creation and Configuration\n",
        "\n",
        "Creates the **Database Summary Agent**, configured with Airtable and Google Docs tools. The agent is instructed to fetch records from a specific Airtable base and table, generate a summary, and insert that summary into a Google Doc titled Demo Doc.\n"
      ]
    },
    {
      "cell_type": "code",
      "execution_count": null,
      "metadata": {
        "colab": {
          "base_uri": "https://localhost:8080/"
        },
        "id": "4BNS5kv_uOSb",
        "outputId": "5d627f81-4bad-4329-f572-e439f1fdc9e6"
      },
      "outputs": [
        {
          "name": "stderr",
          "output_type": "stream",
          "text": [
            "/usr/local/lib/python3.12/dist-packages/aixplain/factories/agent_factory/__init__.py:111: UserWarning: Use `llm` to define the large language model (aixplain.modules.model.llm_model.LLM) to be used as agent. Use `llm_id` to provide the model ID of the large language model to be used as agent. Note: In upcoming releases, `llm` will become a required parameter.\n",
            "  warnings.warn(\n"
          ]
        }
      ],
      "source": [
        "# Create the Database Summary Agent\n",
        "agent = AgentFactory.create(\n",
        "    name=\"Database Summary Agent\",\n",
        "    description=\"This agent uses Airtable and Google Docs\",\n",
        "    instructions=\"\"\"You are a helpful database assistant.\n",
        "    Use the Airtable tool to get info about the Airtable base Sales and get the data from the table.\n",
        "    The base id is - appMv3bYbvARX3rFI and the table id is - tblw0r0zumBbKZmI8.\n",
        "    Summarize the data in the Airtable database and then write into a Google document called Demo Doc,\n",
        "    the summary of the data.\"\"\",\n",
        "    tools=[google_docs_tool, airtable_tool],  # Attach Airtable + Google Docs tools\n",
        ")"
      ]
    },
    {
      "cell_type": "markdown",
      "metadata": {
        "id": "vGjEONNlbDH9"
      },
      "source": [
        "### 5. Agent Execution\n",
        "\n",
        "Runs the agent to retrieve data from Airtable and write the generated summary into a Google Doc."
      ]
    },
    {
      "cell_type": "code",
      "execution_count": null,
      "metadata": {
        "colab": {
          "base_uri": "https://localhost:8080/",
          "height": 53
        },
        "id": "HrsBPJCeR-Hn",
        "outputId": "ec0bbd8f-9f61-40b3-9f3a-3d894077460d"
      },
      "outputs": [
        {
          "data": {
            "application/vnd.google.colaboratory.intrinsic+json": {
              "type": "string"
            },
            "text/plain": [
              "\"{'document_id': '1XtsOfeCQSHcMl17dfwln-td_aMnh6sN8lsjekABJ5Ac', 'summary': {'Total Deal Value': '$63,800', 'Number of Deals by Stage': {'Closed': 1, 'Lead': 2, 'Qualified': 3}, 'Deals by Region': {'West': 2, 'East': 2, 'Central': 2}}}\""
            ]
          },
          "execution_count": 11,
          "metadata": {},
          "output_type": "execute_result"
        }
      ],
      "source": [
        "# Execute the Database Summary Agent\n",
        "res = agent.run(\"Get a summary of the Airtable table Sales data and write into Demo Doc\")\n",
        "\n",
        "# Print agent output (summary written into Google Docs)\n",
        "print(res.data.output)"
      ]
    },
    {
      "cell_type": "markdown",
      "metadata": {
        "id": "9ZryoW4mbFBZ"
      },
      "source": [
        "## Workflow Summary\n",
        "\n",
        "1. **Airtable Data Retrieval**: Connects to the specified Airtable base and retrieves schema and records.\n",
        "\n",
        "2. **Summarization**: Processes and condenses database content into a concise, human-readable summary.\n",
        "\n",
        "3. **Google Docs Output**: Writes the summary into a designated Google Doc for storage and sharing.\n",
        "\n",
        "This system provides a smooth end-to-end workflow for summarizing Airtable data and documenting insights in Google Docs automatically."
      ]
    }
  ],
  "metadata": {
    "colab": {
      "provenance": []
    },
    "kernelspec": {
      "display_name": "Python 3",
      "name": "python3"
    },
    "language_info": {
      "name": "python"
    }
  },
  "nbformat": 4,
  "nbformat_minor": 0
}
