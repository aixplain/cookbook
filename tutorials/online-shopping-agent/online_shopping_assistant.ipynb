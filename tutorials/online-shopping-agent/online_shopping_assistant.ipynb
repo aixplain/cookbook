{
  "nbformat": 4,
  "nbformat_minor": 0,
  "metadata": {
    "colab": {
      "provenance": []
    },
    "kernelspec": {
      "name": "python3",
      "display_name": "Python 3"
    },
    "language_info": {
      "name": "python"
    }
  },
  "cells": [
    {
      "cell_type": "markdown",
      "source": [
        "## Install Dependencies"
      ],
      "metadata": {
        "id": "nZszS5NPEvv9"
      }
    },
    {
      "cell_type": "code",
      "execution_count": null,
      "metadata": {
        "colab": {
          "base_uri": "https://localhost:8080/"
        },
        "id": "kD83cG7OEpFg",
        "outputId": "a6a4e0cb-f791-4e50-da42-8c62dd6650bb"
      },
      "outputs": [
        {
          "output_type": "stream",
          "name": "stdout",
          "text": [
            "Collecting aixplain\n",
            "  Downloading aiXplain-0.2.27-py3-none-any.whl.metadata (5.0 kB)\n",
            "Requirement already satisfied: requests>=2.1.0 in /usr/local/lib/python3.11/dist-packages (from aixplain) (2.32.3)\n",
            "Requirement already satisfied: tqdm>=4.1.0 in /usr/local/lib/python3.11/dist-packages (from aixplain) (4.67.1)\n",
            "Requirement already satisfied: pandas>=1.2.1 in /usr/local/lib/python3.11/dist-packages (from aixplain) (2.2.2)\n",
            "Collecting python-dotenv>=1.0.0 (from aixplain)\n",
            "  Downloading python_dotenv-1.0.1-py3-none-any.whl.metadata (23 kB)\n",
            "Collecting validators>=0.20.0 (from aixplain)\n",
            "  Downloading validators-0.34.0-py3-none-any.whl.metadata (3.8 kB)\n",
            "Collecting filetype>=1.2.0 (from aixplain)\n",
            "  Downloading filetype-1.2.0-py2.py3-none-any.whl.metadata (6.5 kB)\n",
            "Requirement already satisfied: click>=7.1.2 in /usr/local/lib/python3.11/dist-packages (from aixplain) (8.1.8)\n",
            "Requirement already satisfied: PyYAML>=6.0.1 in /usr/local/lib/python3.11/dist-packages (from aixplain) (6.0.2)\n",
            "Collecting dataclasses-json>=0.5.2 (from aixplain)\n",
            "  Downloading dataclasses_json-0.6.7-py3-none-any.whl.metadata (25 kB)\n",
            "Collecting Jinja2==3.1.4 (from aixplain)\n",
            "  Downloading jinja2-3.1.4-py3-none-any.whl.metadata (2.6 kB)\n",
            "Requirement already satisfied: MarkupSafe>=2.0 in /usr/local/lib/python3.11/dist-packages (from Jinja2==3.1.4->aixplain) (3.0.2)\n",
            "Collecting marshmallow<4.0.0,>=3.18.0 (from dataclasses-json>=0.5.2->aixplain)\n",
            "  Downloading marshmallow-3.26.1-py3-none-any.whl.metadata (7.3 kB)\n",
            "Collecting typing-inspect<1,>=0.4.0 (from dataclasses-json>=0.5.2->aixplain)\n",
            "  Downloading typing_inspect-0.9.0-py3-none-any.whl.metadata (1.5 kB)\n",
            "Requirement already satisfied: numpy>=1.23.2 in /usr/local/lib/python3.11/dist-packages (from pandas>=1.2.1->aixplain) (1.26.4)\n",
            "Requirement already satisfied: python-dateutil>=2.8.2 in /usr/local/lib/python3.11/dist-packages (from pandas>=1.2.1->aixplain) (2.8.2)\n",
            "Requirement already satisfied: pytz>=2020.1 in /usr/local/lib/python3.11/dist-packages (from pandas>=1.2.1->aixplain) (2025.1)\n",
            "Requirement already satisfied: tzdata>=2022.7 in /usr/local/lib/python3.11/dist-packages (from pandas>=1.2.1->aixplain) (2025.1)\n",
            "Requirement already satisfied: charset-normalizer<4,>=2 in /usr/local/lib/python3.11/dist-packages (from requests>=2.1.0->aixplain) (3.4.1)\n",
            "Requirement already satisfied: idna<4,>=2.5 in /usr/local/lib/python3.11/dist-packages (from requests>=2.1.0->aixplain) (3.10)\n",
            "Requirement already satisfied: urllib3<3,>=1.21.1 in /usr/local/lib/python3.11/dist-packages (from requests>=2.1.0->aixplain) (2.3.0)\n",
            "Requirement already satisfied: certifi>=2017.4.17 in /usr/local/lib/python3.11/dist-packages (from requests>=2.1.0->aixplain) (2025.1.31)\n",
            "Requirement already satisfied: packaging>=17.0 in /usr/local/lib/python3.11/dist-packages (from marshmallow<4.0.0,>=3.18.0->dataclasses-json>=0.5.2->aixplain) (24.2)\n",
            "Requirement already satisfied: six>=1.5 in /usr/local/lib/python3.11/dist-packages (from python-dateutil>=2.8.2->pandas>=1.2.1->aixplain) (1.17.0)\n",
            "Collecting mypy-extensions>=0.3.0 (from typing-inspect<1,>=0.4.0->dataclasses-json>=0.5.2->aixplain)\n",
            "  Downloading mypy_extensions-1.0.0-py3-none-any.whl.metadata (1.1 kB)\n",
            "Requirement already satisfied: typing-extensions>=3.7.4 in /usr/local/lib/python3.11/dist-packages (from typing-inspect<1,>=0.4.0->dataclasses-json>=0.5.2->aixplain) (4.12.2)\n",
            "Downloading aiXplain-0.2.27-py3-none-any.whl (307 kB)\n",
            "\u001b[2K   \u001b[90m━━━━━━━━━━━━━━━━━━━━━━━━━━━━━━━━━━━━━━━━\u001b[0m \u001b[32m307.7/307.7 kB\u001b[0m \u001b[31m7.8 MB/s\u001b[0m eta \u001b[36m0:00:00\u001b[0m\n",
            "\u001b[?25hDownloading jinja2-3.1.4-py3-none-any.whl (133 kB)\n",
            "\u001b[2K   \u001b[90m━━━━━━━━━━━━━━━━━━━━━━━━━━━━━━━━━━━━━━━━\u001b[0m \u001b[32m133.3/133.3 kB\u001b[0m \u001b[31m9.8 MB/s\u001b[0m eta \u001b[36m0:00:00\u001b[0m\n",
            "\u001b[?25hDownloading dataclasses_json-0.6.7-py3-none-any.whl (28 kB)\n",
            "Downloading filetype-1.2.0-py2.py3-none-any.whl (19 kB)\n",
            "Downloading python_dotenv-1.0.1-py3-none-any.whl (19 kB)\n",
            "Downloading validators-0.34.0-py3-none-any.whl (43 kB)\n",
            "\u001b[2K   \u001b[90m━━━━━━━━━━━━━━━━━━━━━━━━━━━━━━━━━━━━━━━━\u001b[0m \u001b[32m43.5/43.5 kB\u001b[0m \u001b[31m3.3 MB/s\u001b[0m eta \u001b[36m0:00:00\u001b[0m\n",
            "\u001b[?25hDownloading marshmallow-3.26.1-py3-none-any.whl (50 kB)\n",
            "\u001b[2K   \u001b[90m━━━━━━━━━━━━━━━━━━━━━━━━━━━━━━━━━━━━━━━━\u001b[0m \u001b[32m50.9/50.9 kB\u001b[0m \u001b[31m3.9 MB/s\u001b[0m eta \u001b[36m0:00:00\u001b[0m\n",
            "\u001b[?25hDownloading typing_inspect-0.9.0-py3-none-any.whl (8.8 kB)\n",
            "Downloading mypy_extensions-1.0.0-py3-none-any.whl (4.7 kB)\n",
            "Installing collected packages: filetype, validators, python-dotenv, mypy-extensions, marshmallow, Jinja2, typing-inspect, dataclasses-json, aixplain\n",
            "  Attempting uninstall: Jinja2\n",
            "    Found existing installation: Jinja2 3.1.5\n",
            "    Uninstalling Jinja2-3.1.5:\n",
            "      Successfully uninstalled Jinja2-3.1.5\n",
            "\u001b[31mERROR: pip's dependency resolver does not currently take into account all the packages that are installed. This behaviour is the source of the following dependency conflicts.\n",
            "torch 2.5.1+cu124 requires nvidia-cublas-cu12==12.4.5.8; platform_system == \"Linux\" and platform_machine == \"x86_64\", but you have nvidia-cublas-cu12 12.5.3.2 which is incompatible.\n",
            "torch 2.5.1+cu124 requires nvidia-cuda-cupti-cu12==12.4.127; platform_system == \"Linux\" and platform_machine == \"x86_64\", but you have nvidia-cuda-cupti-cu12 12.5.82 which is incompatible.\n",
            "torch 2.5.1+cu124 requires nvidia-cuda-nvrtc-cu12==12.4.127; platform_system == \"Linux\" and platform_machine == \"x86_64\", but you have nvidia-cuda-nvrtc-cu12 12.5.82 which is incompatible.\n",
            "torch 2.5.1+cu124 requires nvidia-cuda-runtime-cu12==12.4.127; platform_system == \"Linux\" and platform_machine == \"x86_64\", but you have nvidia-cuda-runtime-cu12 12.5.82 which is incompatible.\n",
            "torch 2.5.1+cu124 requires nvidia-cudnn-cu12==9.1.0.70; platform_system == \"Linux\" and platform_machine == \"x86_64\", but you have nvidia-cudnn-cu12 9.3.0.75 which is incompatible.\n",
            "torch 2.5.1+cu124 requires nvidia-cufft-cu12==11.2.1.3; platform_system == \"Linux\" and platform_machine == \"x86_64\", but you have nvidia-cufft-cu12 11.2.3.61 which is incompatible.\n",
            "torch 2.5.1+cu124 requires nvidia-curand-cu12==10.3.5.147; platform_system == \"Linux\" and platform_machine == \"x86_64\", but you have nvidia-curand-cu12 10.3.6.82 which is incompatible.\n",
            "torch 2.5.1+cu124 requires nvidia-cusolver-cu12==11.6.1.9; platform_system == \"Linux\" and platform_machine == \"x86_64\", but you have nvidia-cusolver-cu12 11.6.3.83 which is incompatible.\n",
            "torch 2.5.1+cu124 requires nvidia-cusparse-cu12==12.3.1.170; platform_system == \"Linux\" and platform_machine == \"x86_64\", but you have nvidia-cusparse-cu12 12.5.1.3 which is incompatible.\n",
            "torch 2.5.1+cu124 requires nvidia-nvjitlink-cu12==12.4.127; platform_system == \"Linux\" and platform_machine == \"x86_64\", but you have nvidia-nvjitlink-cu12 12.5.82 which is incompatible.\u001b[0m\u001b[31m\n",
            "\u001b[0mSuccessfully installed Jinja2-3.1.4 aixplain-0.2.27 dataclasses-json-0.6.7 filetype-1.2.0 marshmallow-3.26.1 mypy-extensions-1.0.0 python-dotenv-1.0.1 typing-inspect-0.9.0 validators-0.34.0\n"
          ]
        }
      ],
      "source": [
        "!pip install aixplain --upgrade"
      ]
    },
    {
      "cell_type": "markdown",
      "source": [
        "## SEARCH TOOL"
      ],
      "metadata": {
        "id": "znP8lhX9tGBT"
      }
    },
    {
      "cell_type": "code",
      "source": [
        "%env TEAM_API_KEY=f8a6ff66caa50968904d94e17b54cecc98e955cd779b92f02c0aa6f8a017e7ed"
      ],
      "metadata": {
        "colab": {
          "base_uri": "https://localhost:8080/"
        },
        "id": "O9LGvZ3lt1Y_",
        "outputId": "9c9fb7a4-3781-48c5-8ae7-ae5245a45426"
      },
      "execution_count": null,
      "outputs": [
        {
          "output_type": "stream",
          "name": "stdout",
          "text": [
            "env: TEAM_API_KEY=f8a6ff66caa50968904d94e17b54cecc98e955cd779b92f02c0aa6f8a017e7ed\n"
          ]
        }
      ]
    },
    {
      "cell_type": "code",
      "source": [
        "!env | grep TEAM_API_KEY"
      ],
      "metadata": {
        "colab": {
          "base_uri": "https://localhost:8080/"
        },
        "id": "wos9n6NO3Ylu",
        "outputId": "8b7e929c-538d-49ff-8032-8e283d7565c9"
      },
      "execution_count": null,
      "outputs": [
        {
          "output_type": "stream",
          "name": "stdout",
          "text": [
            "TEAM_API_KEY=f8a6ff66caa50968904d94e17b54cecc98e955cd779b92f02c0aa6f8a017e7ed\n"
          ]
        }
      ]
    },
    {
      "cell_type": "code",
      "source": [
        "def main(query: str):\n",
        "  import requests, json\n",
        "  PROMPT = \"\"\"\n",
        "    Given the parsed page of an online product. Try to get the following information about the product, name, description, price, rate.\n",
        "    Return your response in a json format like the following:\n",
        "    {\n",
        "      \"name\": <name>,\n",
        "      \"url\": <url>,\n",
        "      \"description\": <description>,\n",
        "      \"price\": <price>,\n",
        "      \"rate\": <rate>\n",
        "    }\n",
        "    Only return the json output in a format to be parsed directly using json.loads.\n",
        "    The url is supposed to be the first line in the inout given to you.\n",
        "    If the input parsed page doesn't seem to be of an online product, return {}\n",
        "    PARSED PAGE:\n",
        "  \"\"\"\n",
        "  search_model_url = \"https://models.aixplain.com/api/v2/execute/65c51c556eb563350f6e1bb1\"\n",
        "  scrapping_model_url = \"https://models.aixplain.com/api/v2/execute/66f423426eb563fa213a3531\"\n",
        "  llm_model_url = \"https://models.aixplain.com/api/v2/execute/677c16166eb563bb611623c1\"\n",
        "  api_key = \"f8a6ff66caa50968904d94e17b54cecc98e955cd779b92f02c0aa6f8a017e7ed\"\n",
        "  headers = {\"x-api-key\": api_key, \"Content-Type\": \"application/json\"}\n",
        "\n",
        "  payload = {\n",
        "      \"text\": f\"I want to buy {query} online\",\n",
        "      \"numResults\": 100\n",
        "  }\n",
        "  r = requests.post(search_model_url, headers=headers, json=payload)\n",
        "  resp = r.json()\n",
        "  final_output = []\n",
        "  for item in resp['details']:\n",
        "    url = item['document']\n",
        "    scrapping_payload = {\n",
        "        \"text\": url\n",
        "    }\n",
        "    try:\n",
        "      r = requests.post(scrapping_model_url, headers=headers, json=scrapping_payload)\n",
        "      resp = r.json()\n",
        "      llm_payload = {\n",
        "          \"text\" : PROMPT + \"\\n\" + url + \"\\n\" + resp['data']\n",
        "      }\n",
        "      r = requests.post(llm_model_url, headers=headers, json=llm_payload)\n",
        "      resp = r.json()\n",
        "      try:\n",
        "        json_output = json.loads(resp['data'].replace(\"```\", \"\"))\n",
        "        if json_output:\n",
        "          final_output.append(json_output)\n",
        "      except:\n",
        "        continue\n",
        "\n",
        "    except:\n",
        "      continue\n",
        "\n",
        "\n",
        "\n",
        "\n",
        "  return final_output\n",
        "\n",
        "#main(\"iphone 16\")\n"
      ],
      "metadata": {
        "collapsed": true,
        "id": "T26eGdwr2GnC"
      },
      "execution_count": null,
      "outputs": []
    },
    {
      "cell_type": "code",
      "source": [
        "from aixplain.factories import ModelFactory\n",
        "utility_search_model = ModelFactory.create_utility_model(\n",
        "    name=\"Google Search\",\n",
        "    code=main,\n",
        "    description=\"Search Google for the query\"\n",
        "    )"
      ],
      "metadata": {
        "id": "CBqwPtFC2Gkl"
      },
      "execution_count": null,
      "outputs": []
    },
    {
      "cell_type": "code",
      "source": [
        "from aixplain.factories import AgentFactory\n",
        "online_shopping_assistant = AgentFactory.create(\n",
        "    name=\"Online Shopping Assistant4\",\n",
        "    tools=[utility_search_model],\n",
        "\n",
        "    llm_id=\"677c16166eb563bb611623c1\",\n",
        "    description=\"An Agent for to help with online shopping.\",\n",
        "    instructions=\"\"\"\n",
        "      Given a user query, help the user decide where to buy it with the best price and rate.\n",
        "      Start your response with \"Here are the results I got:\"\n",
        "      Give the user as much information as possible that will help decide what to buy like the cheapest and the top rated product.\n",
        "      Present your results in the following format:\n",
        "          '''\n",
        "          Product Name: <name>\n",
        "          Description: <description>\n",
        "          Price: <price>\n",
        "          Rate: <rate>\n",
        "          Url: <url>\n",
        "          -------------------------------------\n",
        "          Product Name: <name>\n",
        "          Description: <description>\n",
        "          Price: <price>\n",
        "          Rate: <rate>\n",
        "          Url: <url>\n",
        "          -------------------------------------\n",
        "          Product Name: <name>\n",
        "          Description: <description>\n",
        "          Price: <price>\n",
        "          Rate: <rate>\n",
        "          Url: <url>\n",
        "          -------------------------------------\n",
        "          Product Name: <name>\n",
        "          Description: <description>\n",
        "          Price: <price>\n",
        "          Rate: <rate>\n",
        "          Url: <url>\n",
        "          '''\n",
        "      You should give the user as much information as possible that will help decide what to buy.\n",
        "    \"\"\"\n",
        ")\n",
        "online_shopping_assistant.id"
      ],
      "metadata": {
        "id": "1L2ZFVR2DTTk",
        "colab": {
          "base_uri": "https://localhost:8080/",
          "height": 91
        },
        "outputId": "18caa612-02f4-4f8d-af06-a552e4aa5393"
      },
      "execution_count": null,
      "outputs": [
        {
          "output_type": "stream",
          "name": "stderr",
          "text": [
            "/usr/local/lib/python3.11/dist-packages/aixplain/factories/agent_factory/__init__.py:78: UserWarning: The 'instructions' parameter was recently added and serves the same purpose as 'description' did previously: set the role of the agent as a system prompt. The 'description' parameter is still required and should be used to set a short summary of the agent's purpose. For the next releases, the 'instructions' parameter will be required.\n",
            "  warnings.warn(\n"
          ]
        },
        {
          "output_type": "execute_result",
          "data": {
            "text/plain": [
              "'67bf2249058286b62912e2dc'"
            ],
            "application/vnd.google.colaboratory.intrinsic+json": {
              "type": "string"
            }
          },
          "metadata": {},
          "execution_count": 6
        }
      ]
    },
    {
      "cell_type": "code",
      "source": [
        "result = online_shopping_assistant.run(\"whiteboard\")"
      ],
      "metadata": {
        "id": "JRTZVAtnDTQd"
      },
      "execution_count": null,
      "outputs": []
    },
    {
      "cell_type": "code",
      "source": [
        "print(result['data']['output'])"
      ],
      "metadata": {
        "colab": {
          "base_uri": "https://localhost:8080/"
        },
        "id": "APgHt-vC0jAH",
        "outputId": "9b0a8231-f85c-4f16-f0c2-b0deb13573a1"
      },
      "execution_count": null,
      "outputs": [
        {
          "output_type": "stream",
          "name": "stdout",
          "text": [
            "\"Here are the results I got: \n",
            "          Product Name: Quartet Whiteboard\n",
            "          Description: A high-quality whiteboard for home or office use\n",
            "          Price: $15\n",
            "          Rate: 4.5\n",
            "          Url: https://www.amazon.com/Quartet-Whiteboard-6x4-Feet-Aluminum-Frame\n",
            "          -------------------------------------\n",
            "          Product Name: Viz-Pro Whiteboard\n",
            "          Description: A durable and easy-to-clean whiteboard for heavy use\n",
            "          Price: $25\n",
            "          Rate: 4.8\n",
            "          Url: https://www.staples.com/Viz-Pro-Whiteboard-6x4-Feet-Aluminum-Frame\n",
            "          -------------------------------------\n",
            "          Product Name: Lockways Whiteboard\n",
            "          Description: A budget-friendly whiteboard for basic use\n",
            "          Price: $10\n",
            "          Rate: 4.2\n",
            "          Url: https://www.walmart.com/Lockways-Whiteboard-6x4-Feet-Plastic-Frame\n",
            "          -------------------------------------\n",
            "          Product Name: Ghent Whiteboard\n",
            "          Description: A high-end whiteboard with a sleek and modern design\n",
            "          Price: $50\n",
            "          Rate: 4.9\n",
            "          Url: https://www.officedepot.com/Ghent-Whiteboard-6x4-Feet-Aluminum-Frame\"\n"
          ]
        }
      ]
    },
    {
      "cell_type": "code",
      "source": [
        "online_shopping_assistant.deploy()"
      ],
      "metadata": {
        "id": "0DUcf1Le0i0t"
      },
      "execution_count": null,
      "outputs": []
    },
    {
      "cell_type": "code",
      "source": [],
      "metadata": {
        "id": "IlLfXwez0iyF"
      },
      "execution_count": null,
      "outputs": []
    }
  ]
}